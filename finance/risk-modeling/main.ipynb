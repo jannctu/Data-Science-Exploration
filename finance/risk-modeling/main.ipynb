{
 "cells": [
  {
   "cell_type": "markdown",
   "source": [
    "# Risk Model for Credit Loan Default Prediction\n",
    "\n",
    "## Importing Necessary Libraries and Loading Data\n"
   ],
   "metadata": {
    "collapsed": false
   },
   "id": "9c26d81be703d54a"
  },
  {
   "cell_type": "code",
   "execution_count": 172,
   "outputs": [],
   "source": [
    "import numpy as np\n",
    "import pandas as pd\n",
    "import os"
   ],
   "metadata": {
    "collapsed": false,
    "ExecuteTime": {
     "end_time": "2024-12-11T12:18:00.393615Z",
     "start_time": "2024-12-11T12:17:59.908360Z"
    }
   },
   "id": "81ad2b7c0874dab0"
  },
  {
   "cell_type": "code",
   "execution_count": 173,
   "outputs": [
    {
     "data": {
      "text/plain": "['lc_2016_2017.csv', 'lc_loan.csv', 'us-state-codes.csv', 'new.html']"
     },
     "execution_count": 173,
     "metadata": {},
     "output_type": "execute_result"
    }
   ],
   "source": [
    "os.listdir('../../datasets/husainsb/lendingclub-issued-loans')"
   ],
   "metadata": {
    "collapsed": false,
    "ExecuteTime": {
     "end_time": "2024-12-11T12:18:00.872046Z",
     "start_time": "2024-12-11T12:17:59.917004Z"
    }
   },
   "id": "3eda6ce7fe9c3103"
  },
  {
   "cell_type": "markdown",
   "source": [
    "## 1. Load the data"
   ],
   "metadata": {
    "collapsed": false
   },
   "id": "7ee3b8a0be9c4cbb"
  },
  {
   "cell_type": "code",
   "execution_count": 174,
   "outputs": [
    {
     "name": "stderr",
     "output_type": "stream",
     "text": [
      "/var/folders/86/0ktjtbzj13b2z0b54356w3h00000gn/T/ipykernel_5928/590291582.py:1: DtypeWarning: Columns (18,54) have mixed types. Specify dtype option on import or set low_memory=False.\n",
      "  df_data = pd.read_csv('../../datasets/husainsb/lendingclub-issued-loans/lc_2016_2017.csv')\n"
     ]
    }
   ],
   "source": [
    "df_data = pd.read_csv('../../datasets/husainsb/lendingclub-issued-loans/lc_2016_2017.csv')"
   ],
   "metadata": {
    "collapsed": false,
    "ExecuteTime": {
     "end_time": "2024-12-11T12:18:07.390610Z",
     "start_time": "2024-12-11T12:17:59.961923Z"
    }
   },
   "id": "aa783984db6d186c"
  },
  {
   "cell_type": "code",
   "execution_count": 175,
   "outputs": [
    {
     "data": {
      "text/plain": "          id  member_id  loan_amnt  funded_amnt  funded_amnt_inv       term  \\\n0  112435993        NaN       2300         2300           2300.0  36 months   \n1  112290210        NaN      16000        16000          16000.0  60 months   \n2  112436985        NaN       6025         6025           6025.0  36 months   \n3  112439006        NaN      20400        20400          20400.0  36 months   \n4  112438929        NaN      13000        13000          13000.0  36 months   \n\n   int_rate  installment grade sub_grade  ... total_bal_il il_util  \\\n0     12.62        77.08     C        C1  ...          0.0     NaN   \n1     12.62       360.95     C        C1  ...      11078.0    69.0   \n2     15.05       209.01     C        C4  ...          0.0     NaN   \n3      9.44       652.91     B        B1  ...      53566.0    95.0   \n4     11.99       431.73     B        B5  ...       8466.0    72.0   \n\n  open_rv_12m  open_rv_24m max_bal_bc all_util total_rev_hi_lim inq_fi  \\\n0         1.0          2.0     2315.0     55.0           7100.0    1.0   \n1         3.0          5.0     1962.0     94.0          31900.0    0.0   \n2         1.0          2.0     1950.0     45.0          27700.0    1.0   \n3         1.0          2.0     4240.0     60.0          46900.0    1.0   \n4         0.0          1.0     2996.0     78.0           7800.0    0.0   \n\n  total_cu_tl inq_last_12m  \n0         0.0          2.0  \n1         6.0          1.0  \n2         5.0          3.0  \n3         1.0          1.0  \n4         0.0          0.0  \n\n[5 rows x 72 columns]",
      "text/html": "<div>\n<style scoped>\n    .dataframe tbody tr th:only-of-type {\n        vertical-align: middle;\n    }\n\n    .dataframe tbody tr th {\n        vertical-align: top;\n    }\n\n    .dataframe thead th {\n        text-align: right;\n    }\n</style>\n<table border=\"1\" class=\"dataframe\">\n  <thead>\n    <tr style=\"text-align: right;\">\n      <th></th>\n      <th>id</th>\n      <th>member_id</th>\n      <th>loan_amnt</th>\n      <th>funded_amnt</th>\n      <th>funded_amnt_inv</th>\n      <th>term</th>\n      <th>int_rate</th>\n      <th>installment</th>\n      <th>grade</th>\n      <th>sub_grade</th>\n      <th>...</th>\n      <th>total_bal_il</th>\n      <th>il_util</th>\n      <th>open_rv_12m</th>\n      <th>open_rv_24m</th>\n      <th>max_bal_bc</th>\n      <th>all_util</th>\n      <th>total_rev_hi_lim</th>\n      <th>inq_fi</th>\n      <th>total_cu_tl</th>\n      <th>inq_last_12m</th>\n    </tr>\n  </thead>\n  <tbody>\n    <tr>\n      <th>0</th>\n      <td>112435993</td>\n      <td>NaN</td>\n      <td>2300</td>\n      <td>2300</td>\n      <td>2300.0</td>\n      <td>36 months</td>\n      <td>12.62</td>\n      <td>77.08</td>\n      <td>C</td>\n      <td>C1</td>\n      <td>...</td>\n      <td>0.0</td>\n      <td>NaN</td>\n      <td>1.0</td>\n      <td>2.0</td>\n      <td>2315.0</td>\n      <td>55.0</td>\n      <td>7100.0</td>\n      <td>1.0</td>\n      <td>0.0</td>\n      <td>2.0</td>\n    </tr>\n    <tr>\n      <th>1</th>\n      <td>112290210</td>\n      <td>NaN</td>\n      <td>16000</td>\n      <td>16000</td>\n      <td>16000.0</td>\n      <td>60 months</td>\n      <td>12.62</td>\n      <td>360.95</td>\n      <td>C</td>\n      <td>C1</td>\n      <td>...</td>\n      <td>11078.0</td>\n      <td>69.0</td>\n      <td>3.0</td>\n      <td>5.0</td>\n      <td>1962.0</td>\n      <td>94.0</td>\n      <td>31900.0</td>\n      <td>0.0</td>\n      <td>6.0</td>\n      <td>1.0</td>\n    </tr>\n    <tr>\n      <th>2</th>\n      <td>112436985</td>\n      <td>NaN</td>\n      <td>6025</td>\n      <td>6025</td>\n      <td>6025.0</td>\n      <td>36 months</td>\n      <td>15.05</td>\n      <td>209.01</td>\n      <td>C</td>\n      <td>C4</td>\n      <td>...</td>\n      <td>0.0</td>\n      <td>NaN</td>\n      <td>1.0</td>\n      <td>2.0</td>\n      <td>1950.0</td>\n      <td>45.0</td>\n      <td>27700.0</td>\n      <td>1.0</td>\n      <td>5.0</td>\n      <td>3.0</td>\n    </tr>\n    <tr>\n      <th>3</th>\n      <td>112439006</td>\n      <td>NaN</td>\n      <td>20400</td>\n      <td>20400</td>\n      <td>20400.0</td>\n      <td>36 months</td>\n      <td>9.44</td>\n      <td>652.91</td>\n      <td>B</td>\n      <td>B1</td>\n      <td>...</td>\n      <td>53566.0</td>\n      <td>95.0</td>\n      <td>1.0</td>\n      <td>2.0</td>\n      <td>4240.0</td>\n      <td>60.0</td>\n      <td>46900.0</td>\n      <td>1.0</td>\n      <td>1.0</td>\n      <td>1.0</td>\n    </tr>\n    <tr>\n      <th>4</th>\n      <td>112438929</td>\n      <td>NaN</td>\n      <td>13000</td>\n      <td>13000</td>\n      <td>13000.0</td>\n      <td>36 months</td>\n      <td>11.99</td>\n      <td>431.73</td>\n      <td>B</td>\n      <td>B5</td>\n      <td>...</td>\n      <td>8466.0</td>\n      <td>72.0</td>\n      <td>0.0</td>\n      <td>1.0</td>\n      <td>2996.0</td>\n      <td>78.0</td>\n      <td>7800.0</td>\n      <td>0.0</td>\n      <td>0.0</td>\n      <td>0.0</td>\n    </tr>\n  </tbody>\n</table>\n<p>5 rows × 72 columns</p>\n</div>"
     },
     "execution_count": 175,
     "metadata": {},
     "output_type": "execute_result"
    }
   ],
   "source": [
    "df_data.head()"
   ],
   "metadata": {
    "collapsed": false,
    "ExecuteTime": {
     "end_time": "2024-12-11T12:18:07.411036Z",
     "start_time": "2024-12-11T12:18:07.405332Z"
    }
   },
   "id": "7dda34f7dbdf5e12"
  },
  {
   "cell_type": "code",
   "execution_count": 176,
   "outputs": [
    {
     "data": {
      "text/plain": "(759338, 72)"
     },
     "execution_count": 176,
     "metadata": {},
     "output_type": "execute_result"
    }
   ],
   "source": [
    "df_data.shape"
   ],
   "metadata": {
    "collapsed": false,
    "ExecuteTime": {
     "end_time": "2024-12-11T12:18:07.444482Z",
     "start_time": "2024-12-11T12:18:07.411992Z"
    }
   },
   "id": "4df444551062787a"
  },
  {
   "cell_type": "code",
   "execution_count": 177,
   "outputs": [
    {
     "name": "stdout",
     "output_type": "stream",
     "text": [
      "<class 'pandas.core.frame.DataFrame'>\n",
      "RangeIndex: 759338 entries, 0 to 759337\n",
      "Data columns (total 72 columns):\n",
      " #   Column                       Non-Null Count   Dtype  \n",
      "---  ------                       --------------   -----  \n",
      " 0   id                           759338 non-null  int64  \n",
      " 1   member_id                    0 non-null       float64\n",
      " 2   loan_amnt                    759338 non-null  int64  \n",
      " 3   funded_amnt                  759338 non-null  int64  \n",
      " 4   funded_amnt_inv              759338 non-null  float64\n",
      " 5   term                         759338 non-null  object \n",
      " 6   int_rate                     759338 non-null  float64\n",
      " 7   installment                  759338 non-null  float64\n",
      " 8   grade                        759338 non-null  object \n",
      " 9   sub_grade                    759338 non-null  object \n",
      " 10  emp_title                    708368 non-null  object \n",
      " 11  emp_length                   708975 non-null  object \n",
      " 12  home_ownership               759338 non-null  object \n",
      " 13  annual_inc                   759338 non-null  float64\n",
      " 14  verification_status          759338 non-null  object \n",
      " 15  issue_d                      759338 non-null  object \n",
      " 16  loan_status                  759338 non-null  object \n",
      " 17  pymnt_plan                   759338 non-null  object \n",
      " 18  desc                         17 non-null      object \n",
      " 19  purpose                      759338 non-null  object \n",
      " 20  title                        736165 non-null  object \n",
      " 21  zip_code                     759337 non-null  object \n",
      " 22  addr_state                   759338 non-null  object \n",
      " 23  dti                          758983 non-null  float64\n",
      " 24  delinq_2yrs                  759338 non-null  int64  \n",
      " 25  earliest_cr_line             759338 non-null  object \n",
      " 26  inq_last_6mths               759337 non-null  float64\n",
      " 27  mths_since_last_delinq       396633 non-null  float64\n",
      " 28  mths_since_last_record       141179 non-null  float64\n",
      " 29  open_acc                     759338 non-null  int64  \n",
      " 30  pub_rec                      759338 non-null  int64  \n",
      " 31  revol_bal                    759338 non-null  float64\n",
      " 32  revol_util                   758821 non-null  float64\n",
      " 33  total_acc                    759338 non-null  int64  \n",
      " 34  initial_list_status          759338 non-null  object \n",
      " 35  out_prncp                    759338 non-null  float64\n",
      " 36  out_prncp_inv                759338 non-null  float64\n",
      " 37  total_pymnt                  759338 non-null  float64\n",
      " 38  total_pymnt_inv              759338 non-null  float64\n",
      " 39  total_rec_prncp              759338 non-null  float64\n",
      " 40  total_rec_int                759338 non-null  float64\n",
      " 41  total_rec_late_fee           759338 non-null  float64\n",
      " 42  recoveries                   759338 non-null  float64\n",
      " 43  collection_recovery_fee      759338 non-null  float64\n",
      " 44  last_pymnt_d                 758390 non-null  object \n",
      " 45  last_pymnt_amnt              759338 non-null  float64\n",
      " 46  next_pymnt_d                 591423 non-null  object \n",
      " 47  last_credit_pull_d           759320 non-null  object \n",
      " 48  collections_12_mths_ex_med   759338 non-null  int64  \n",
      " 49  mths_since_last_major_derog  215105 non-null  float64\n",
      " 50  policy_code                  759338 non-null  int64  \n",
      " 51  application_type             759338 non-null  object \n",
      " 52  annual_inc_joint             34003 non-null   float64\n",
      " 53  dti_joint                    34001 non-null   float64\n",
      " 54  verification_status_joint    34003 non-null   object \n",
      " 55  acc_now_delinq               759338 non-null  int64  \n",
      " 56  tot_coll_amt                 759338 non-null  float64\n",
      " 57  tot_cur_bal                  759338 non-null  float64\n",
      " 58  open_acc_6m                  759276 non-null  float64\n",
      " 59  open_il_12m                  759277 non-null  float64\n",
      " 60  open_il_24m                  759277 non-null  float64\n",
      " 61  mths_since_rcnt_il           738795 non-null  float64\n",
      " 62  total_bal_il                 759277 non-null  float64\n",
      " 63  il_util                      658743 non-null  float64\n",
      " 64  open_rv_12m                  759277 non-null  float64\n",
      " 65  open_rv_24m                  759277 non-null  float64\n",
      " 66  max_bal_bc                   759277 non-null  float64\n",
      " 67  all_util                     759224 non-null  float64\n",
      " 68  total_rev_hi_lim             759338 non-null  float64\n",
      " 69  inq_fi                       759277 non-null  float64\n",
      " 70  total_cu_tl                  759276 non-null  float64\n",
      " 71  inq_last_12m                 759276 non-null  float64\n",
      "dtypes: float64(40), int64(10), object(22)\n",
      "memory usage: 417.1+ MB\n"
     ]
    }
   ],
   "source": [
    "df_data.info()"
   ],
   "metadata": {
    "collapsed": false,
    "ExecuteTime": {
     "end_time": "2024-12-11T12:18:08.384253Z",
     "start_time": "2024-12-11T12:18:07.418704Z"
    }
   },
   "id": "e3270c1b4d5ed688"
  },
  {
   "cell_type": "code",
   "execution_count": 178,
   "outputs": [
    {
     "data": {
      "text/plain": "loan_status\nCurrent               565523\nFully Paid            130718\nCharged Off            37197\nLate (31-120 days)     15354\nIn Grace Period         6634\nLate (16-30 days)       3876\nDefault                   36\nName: count, dtype: int64"
     },
     "execution_count": 178,
     "metadata": {},
     "output_type": "execute_result"
    }
   ],
   "source": [
    "df_data.loan_status.value_counts()"
   ],
   "metadata": {
    "collapsed": false,
    "ExecuteTime": {
     "end_time": "2024-12-11T12:18:08.446978Z",
     "start_time": "2024-12-11T12:18:08.440198Z"
    }
   },
   "id": "c8b9e2c415cf85fa"
  },
  {
   "cell_type": "markdown",
   "source": [
    "## 2. Creating the good_bad Column\n",
    "In this section, we create a new column, good_bad, in the df_data DataFrame to categorize loans as either good or bad based on their status:\n",
    "\n",
    "Good loan (0): The loan is considered \"good\" if the loan status is one of the following:\n",
    "    - Fully Paid\n",
    "    - Current\n",
    "    - In Grace Period\n",
    "Bad loan (1): The loan is considered \"bad\" if the loan status is one of the following:\n",
    "    - Charged Off\n",
    "    - Default\n",
    "    - Late (31-120 days)\n",
    "    - Late (16-30 days)\n",
    "    \n",
    "We use the apply() function along with a lambda function to apply this classification rule to each row's loan_status value. The result is stored in the new good_bad column, where 0 represents a good loan and 1 represents a bad loan."
   ],
   "metadata": {
    "collapsed": false
   },
   "id": "d8dc8535f62c1e2c"
  },
  {
   "cell_type": "code",
   "execution_count": 179,
   "outputs": [],
   "source": [
    "# create good_bad column\n",
    "# 0: good loan\n",
    "# 1: bad loan\n",
    "# \n",
    "# bad loan: Charged Off, Default, Late (31-120 days), Late (16-30 days)\n",
    "# good loan: Fully Paid, Current, In Grace Period\n",
    "df_data['good_bad'] = df_data.loan_status.apply(lambda x: 0 if x in ['Fully Paid', 'Current', 'In Grace Period'] else 1)\n"
   ],
   "metadata": {
    "collapsed": false,
    "ExecuteTime": {
     "end_time": "2024-12-11T12:18:08.667329Z",
     "start_time": "2024-12-11T12:18:08.449437Z"
    }
   },
   "id": "42c08fa3d4426154"
  },
  {
   "cell_type": "code",
   "execution_count": 180,
   "outputs": [
    {
     "data": {
      "text/plain": "good_bad\n0    702875\n1     56463\nName: count, dtype: int64"
     },
     "execution_count": 180,
     "metadata": {},
     "output_type": "execute_result"
    }
   ],
   "source": [
    "df_data.good_bad.value_counts()"
   ],
   "metadata": {
    "collapsed": false,
    "ExecuteTime": {
     "end_time": "2024-12-11T12:18:08.683010Z",
     "start_time": "2024-12-11T12:18:08.676216Z"
    }
   },
   "id": "95b6665bf61fcfbc"
  },
  {
   "cell_type": "code",
   "execution_count": 181,
   "outputs": [
    {
     "data": {
      "text/plain": "              loan_status  good_bad\n0                 Current         0\n1                 Current         0\n2                 Current         0\n3                 Current         0\n4                 Current         0\n...                   ...       ...\n759333            Current         0\n759334            Current         0\n759335  Late (16-30 days)         1\n759336            Current         0\n759337            Current         0\n\n[759338 rows x 2 columns]",
      "text/html": "<div>\n<style scoped>\n    .dataframe tbody tr th:only-of-type {\n        vertical-align: middle;\n    }\n\n    .dataframe tbody tr th {\n        vertical-align: top;\n    }\n\n    .dataframe thead th {\n        text-align: right;\n    }\n</style>\n<table border=\"1\" class=\"dataframe\">\n  <thead>\n    <tr style=\"text-align: right;\">\n      <th></th>\n      <th>loan_status</th>\n      <th>good_bad</th>\n    </tr>\n  </thead>\n  <tbody>\n    <tr>\n      <th>0</th>\n      <td>Current</td>\n      <td>0</td>\n    </tr>\n    <tr>\n      <th>1</th>\n      <td>Current</td>\n      <td>0</td>\n    </tr>\n    <tr>\n      <th>2</th>\n      <td>Current</td>\n      <td>0</td>\n    </tr>\n    <tr>\n      <th>3</th>\n      <td>Current</td>\n      <td>0</td>\n    </tr>\n    <tr>\n      <th>4</th>\n      <td>Current</td>\n      <td>0</td>\n    </tr>\n    <tr>\n      <th>...</th>\n      <td>...</td>\n      <td>...</td>\n    </tr>\n    <tr>\n      <th>759333</th>\n      <td>Current</td>\n      <td>0</td>\n    </tr>\n    <tr>\n      <th>759334</th>\n      <td>Current</td>\n      <td>0</td>\n    </tr>\n    <tr>\n      <th>759335</th>\n      <td>Late (16-30 days)</td>\n      <td>1</td>\n    </tr>\n    <tr>\n      <th>759336</th>\n      <td>Current</td>\n      <td>0</td>\n    </tr>\n    <tr>\n      <th>759337</th>\n      <td>Current</td>\n      <td>0</td>\n    </tr>\n  </tbody>\n</table>\n<p>759338 rows × 2 columns</p>\n</div>"
     },
     "execution_count": 181,
     "metadata": {},
     "output_type": "execute_result"
    }
   ],
   "source": [
    "show_columns = ['loan_status', 'good_bad']\n",
    "df_data[show_columns]"
   ],
   "metadata": {
    "collapsed": false,
    "ExecuteTime": {
     "end_time": "2024-12-11T12:18:08.717849Z",
     "start_time": "2024-12-11T12:18:08.688139Z"
    }
   },
   "id": "b980707682aa42fb"
  },
  {
   "cell_type": "markdown",
   "source": [
    "## 3. Handling Missing Values\n",
    "In this section, we calculate the percentage of missing values for each column in the dataset."
   ],
   "metadata": {
    "collapsed": false
   },
   "id": "bdf024e7fd4fd93"
  },
  {
   "cell_type": "code",
   "execution_count": 182,
   "outputs": [
    {
     "data": {
      "text/plain": "                   missing %\nid                  0.000000\nmember_id         100.000000\nloan_amnt           0.000000\nfunded_amnt         0.000000\nfunded_amnt_inv     0.000000\n...                      ...\ntotal_rev_hi_lim    0.000000\ninq_fi              0.008033\ntotal_cu_tl         0.008165\ninq_last_12m        0.008165\ngood_bad            0.000000\n\n[73 rows x 1 columns]",
      "text/html": "<div>\n<style scoped>\n    .dataframe tbody tr th:only-of-type {\n        vertical-align: middle;\n    }\n\n    .dataframe tbody tr th {\n        vertical-align: top;\n    }\n\n    .dataframe thead th {\n        text-align: right;\n    }\n</style>\n<table border=\"1\" class=\"dataframe\">\n  <thead>\n    <tr style=\"text-align: right;\">\n      <th></th>\n      <th>missing %</th>\n    </tr>\n  </thead>\n  <tbody>\n    <tr>\n      <th>id</th>\n      <td>0.000000</td>\n    </tr>\n    <tr>\n      <th>member_id</th>\n      <td>100.000000</td>\n    </tr>\n    <tr>\n      <th>loan_amnt</th>\n      <td>0.000000</td>\n    </tr>\n    <tr>\n      <th>funded_amnt</th>\n      <td>0.000000</td>\n    </tr>\n    <tr>\n      <th>funded_amnt_inv</th>\n      <td>0.000000</td>\n    </tr>\n    <tr>\n      <th>...</th>\n      <td>...</td>\n    </tr>\n    <tr>\n      <th>total_rev_hi_lim</th>\n      <td>0.000000</td>\n    </tr>\n    <tr>\n      <th>inq_fi</th>\n      <td>0.008033</td>\n    </tr>\n    <tr>\n      <th>total_cu_tl</th>\n      <td>0.008165</td>\n    </tr>\n    <tr>\n      <th>inq_last_12m</th>\n      <td>0.008165</td>\n    </tr>\n    <tr>\n      <th>good_bad</th>\n      <td>0.000000</td>\n    </tr>\n  </tbody>\n</table>\n<p>73 rows × 1 columns</p>\n</div>"
     },
     "execution_count": 182,
     "metadata": {},
     "output_type": "execute_result"
    }
   ],
   "source": [
    "missing_value = pd.DataFrame(df_data.isnull().sum()/df_data.shape[0]*100, columns=['missing %'])\n",
    "missing_value"
   ],
   "metadata": {
    "collapsed": false,
    "ExecuteTime": {
     "end_time": "2024-12-11T12:18:09.537457Z",
     "start_time": "2024-12-11T12:18:08.710390Z"
    }
   },
   "id": "c873eec0d42add6a"
  },
  {
   "cell_type": "code",
   "execution_count": 183,
   "outputs": [
    {
     "data": {
      "text/plain": "                              missing %\nmember_id                    100.000000\ndesc                          99.997761\nmths_since_last_record        81.407621\nmths_since_last_major_derog   71.672035\nannual_inc_joint              95.522020\ndti_joint                     95.522284\nverification_status_joint     95.522020",
      "text/html": "<div>\n<style scoped>\n    .dataframe tbody tr th:only-of-type {\n        vertical-align: middle;\n    }\n\n    .dataframe tbody tr th {\n        vertical-align: top;\n    }\n\n    .dataframe thead th {\n        text-align: right;\n    }\n</style>\n<table border=\"1\" class=\"dataframe\">\n  <thead>\n    <tr style=\"text-align: right;\">\n      <th></th>\n      <th>missing %</th>\n    </tr>\n  </thead>\n  <tbody>\n    <tr>\n      <th>member_id</th>\n      <td>100.000000</td>\n    </tr>\n    <tr>\n      <th>desc</th>\n      <td>99.997761</td>\n    </tr>\n    <tr>\n      <th>mths_since_last_record</th>\n      <td>81.407621</td>\n    </tr>\n    <tr>\n      <th>mths_since_last_major_derog</th>\n      <td>71.672035</td>\n    </tr>\n    <tr>\n      <th>annual_inc_joint</th>\n      <td>95.522020</td>\n    </tr>\n    <tr>\n      <th>dti_joint</th>\n      <td>95.522284</td>\n    </tr>\n    <tr>\n      <th>verification_status_joint</th>\n      <td>95.522020</td>\n    </tr>\n  </tbody>\n</table>\n</div>"
     },
     "execution_count": 183,
     "metadata": {},
     "output_type": "execute_result"
    }
   ],
   "source": [
    "missing_value = missing_value[missing_value['missing %'] > 50]\n",
    "missing_value.sort_values(by='missing %', ascending=False)\n",
    "missing_value"
   ],
   "metadata": {
    "collapsed": false,
    "ExecuteTime": {
     "end_time": "2024-12-11T12:18:09.550054Z",
     "start_time": "2024-12-11T12:18:09.541198Z"
    }
   },
   "id": "68d7ffff3be9e8ae"
  },
  {
   "cell_type": "markdown",
   "source": [
    "## 4. Data Preprocessing"
   ],
   "metadata": {
    "collapsed": false
   },
   "id": "d7b04494c2433bd"
  },
  {
   "cell_type": "markdown",
   "source": [
    "Dropping Columns with Excessive Missing Values\n",
    "In this step, we drop columns from the dataset that have more than 50% missing values. "
   ],
   "metadata": {
    "collapsed": false
   },
   "id": "95c5b6ccc6faee12"
  },
  {
   "cell_type": "code",
   "execution_count": 184,
   "outputs": [],
   "source": [
    "df_data.dropna(axis=1, thresh=df_data.shape[0]*0.5, inplace=True)"
   ],
   "metadata": {
    "collapsed": false,
    "ExecuteTime": {
     "end_time": "2024-12-11T12:18:10.658743Z",
     "start_time": "2024-12-11T12:18:09.548025Z"
    }
   },
   "id": "b70e663f0ebb0775"
  },
  {
   "cell_type": "code",
   "execution_count": 185,
   "outputs": [
    {
     "data": {
      "text/plain": "Empty DataFrame\nColumns: [missing %]\nIndex: []",
      "text/html": "<div>\n<style scoped>\n    .dataframe tbody tr th:only-of-type {\n        vertical-align: middle;\n    }\n\n    .dataframe tbody tr th {\n        vertical-align: top;\n    }\n\n    .dataframe thead th {\n        text-align: right;\n    }\n</style>\n<table border=\"1\" class=\"dataframe\">\n  <thead>\n    <tr style=\"text-align: right;\">\n      <th></th>\n      <th>missing %</th>\n    </tr>\n  </thead>\n  <tbody>\n  </tbody>\n</table>\n</div>"
     },
     "execution_count": 185,
     "metadata": {},
     "output_type": "execute_result"
    }
   ],
   "source": [
    "missing_value = pd.DataFrame(df_data.isnull().sum()/df_data.shape[0]*100, columns=['missing %'])\n",
    "missing_value = missing_value[missing_value['missing %'] > 50]\n",
    "missing_value = missing_value.sort_values(by='missing %', ascending=False)\n",
    "missing_value"
   ],
   "metadata": {
    "collapsed": false,
    "ExecuteTime": {
     "end_time": "2024-12-11T12:18:11.315110Z",
     "start_time": "2024-12-11T12:18:10.658878Z"
    }
   },
   "id": "933fb67b40a4682f"
  },
  {
   "cell_type": "code",
   "execution_count": 186,
   "outputs": [
    {
     "data": {
      "text/plain": "(759338, 66)"
     },
     "execution_count": 186,
     "metadata": {},
     "output_type": "execute_result"
    }
   ],
   "source": [
    "df_data.shape"
   ],
   "metadata": {
    "collapsed": false,
    "ExecuteTime": {
     "end_time": "2024-12-11T12:18:11.319981Z",
     "start_time": "2024-12-11T12:18:11.314897Z"
    }
   },
   "id": "c9a94599a9a02f11"
  },
  {
   "cell_type": "markdown",
   "source": [
    "## 5. Data Splitting"
   ],
   "metadata": {
    "collapsed": false
   },
   "id": "169888e61be4ba57"
  },
  {
   "cell_type": "markdown",
   "source": [
    "Splitting the Data into Training and Testing Sets\n",
    "Here, 20% of the data is reserved for testing, and the remaining 80% is used for training. The random_state=42 ensures reproducibility of the split."
   ],
   "metadata": {
    "collapsed": false
   },
   "id": "461a37626c963c6e"
  },
  {
   "cell_type": "code",
   "execution_count": 187,
   "outputs": [],
   "source": [
    "# splitting  data into 80 % training data and 20% testing data \n",
    "from sklearn.model_selection import train_test_split"
   ],
   "metadata": {
    "collapsed": false,
    "ExecuteTime": {
     "end_time": "2024-12-11T12:18:11.331508Z",
     "start_time": "2024-12-11T12:18:11.319560Z"
    }
   },
   "id": "284088476411d7ef"
  },
  {
   "cell_type": "code",
   "execution_count": 188,
   "outputs": [],
   "source": [
    "x = df_data.drop('good_bad', axis=1)\n",
    "y = df_data['good_bad']"
   ],
   "metadata": {
    "collapsed": false,
    "ExecuteTime": {
     "end_time": "2024-12-11T12:18:12.059562Z",
     "start_time": "2024-12-11T12:18:11.328167Z"
    }
   },
   "id": "8156589cfe439641"
  },
  {
   "cell_type": "code",
   "execution_count": 189,
   "outputs": [],
   "source": [
    "x_train, x_test, y_train, y_test = train_test_split(x, y, test_size=0.2, random_state=42)"
   ],
   "metadata": {
    "collapsed": false,
    "ExecuteTime": {
     "end_time": "2024-12-11T12:18:12.711920Z",
     "start_time": "2024-12-11T12:18:12.063646Z"
    }
   },
   "id": "1367278f4699a1c"
  },
  {
   "cell_type": "code",
   "execution_count": 190,
   "outputs": [
    {
     "data": {
      "text/plain": "((607470, 65), (151868, 65), (607470,), (151868,))"
     },
     "execution_count": 190,
     "metadata": {},
     "output_type": "execute_result"
    }
   ],
   "source": [
    "x_train.shape, x_test.shape, y_train.shape, y_test.shape"
   ],
   "metadata": {
    "collapsed": false,
    "ExecuteTime": {
     "end_time": "2024-12-11T12:18:12.719845Z",
     "start_time": "2024-12-11T12:18:12.713467Z"
    }
   },
   "id": "2ddf8c70bc192f0a"
  },
  {
   "cell_type": "code",
   "execution_count": 191,
   "outputs": [
    {
     "data": {
      "text/plain": "good_bad\n0    0.925512\n1    0.074488\nName: proportion, dtype: float64"
     },
     "execution_count": 191,
     "metadata": {},
     "output_type": "execute_result"
    }
   ],
   "source": [
    "y_train.value_counts(normalize=True)"
   ],
   "metadata": {
    "collapsed": false,
    "ExecuteTime": {
     "end_time": "2024-12-11T12:18:12.772782Z",
     "start_time": "2024-12-11T12:18:12.718417Z"
    }
   },
   "id": "7c594df0f93bdd94"
  },
  {
   "cell_type": "markdown",
   "source": [
    "Data highly imbalanced, with 92.5% of the data labeled as good loans and only 7.5% labeled as bad loans."
   ],
   "metadata": {
    "collapsed": false
   },
   "id": "799924eee73cc8f2"
  },
  {
   "cell_type": "code",
   "execution_count": 192,
   "outputs": [
    {
     "data": {
      "text/plain": "good_bad\n0    0.92616\n1    0.07384\nName: proportion, dtype: float64"
     },
     "execution_count": 192,
     "metadata": {},
     "output_type": "execute_result"
    }
   ],
   "source": [
    "y_test.value_counts(normalize=True)"
   ],
   "metadata": {
    "collapsed": false,
    "ExecuteTime": {
     "end_time": "2024-12-11T12:18:12.773108Z",
     "start_time": "2024-12-11T12:18:12.759758Z"
    }
   },
   "id": "eb139091df9e0b22"
  },
  {
   "cell_type": "markdown",
   "source": [
    "## 6. Data Cleaning\n",
    "Inspecting Unique Values in Categorical Columns"
   ],
   "metadata": {
    "collapsed": false
   },
   "id": "e7971bb7651a1a3c"
  },
  {
   "cell_type": "code",
   "execution_count": 193,
   "outputs": [
    {
     "name": "stdout",
     "output_type": "stream",
     "text": [
      "term: ['60 months' '36 months']\n",
      "grade: ['E' 'C' 'B' 'A' 'D' 'G' 'F']\n",
      "sub_grade: ['E4' 'C5' 'C4' 'C1' 'B5' 'A4' 'C2' 'B1' 'B3' 'A2' 'D2' 'B4' 'A1' 'E1'\n",
      " 'A5' 'B2' 'G2' 'D4' 'C3' 'D5' 'E5' 'A3' 'G3' 'D3' 'F2' 'F1' 'D1' 'E2'\n",
      " 'F4' 'G4' 'F5' 'E3' 'G1' 'G5' 'F3']\n",
      "emp_title: ['QC' 'Seo Analyst' 'Teacher/administration' ...\n",
      " 'Registered Nurse Inpatient Care Manager' 'Application Development Mgr'\n",
      " 'Sales Coordinator/Customer Service']\n",
      "emp_length: ['4 years' '< 1 year' '10+ years' '3 years' '1 year' '6 years' '8 years'\n",
      " '7 years' '9 years' nan '2 years' '5 years']\n",
      "home_ownership: ['MORTGAGE' 'RENT' 'OWN' 'ANY' 'NONE']\n",
      "verification_status: ['Source Verified' 'Not Verified' 'Verified']\n",
      "issue_d: ['Nov-2016' 'Jan-2016' 'May-2016' 'May-2017' 'Jul-2016' 'Mar-2016'\n",
      " 'Jan-2017' 'Sep-2016' 'Feb-2017' 'Jul-2017' 'Sep-2017' 'Jun-2016'\n",
      " 'Aug-2016' 'Jun-2017' 'Aug-2017' 'Apr-2016' 'Dec-2016' 'Apr-2017'\n",
      " 'Feb-2016' 'Oct-2016' 'Mar-2017']\n",
      "loan_status: ['Current' 'Late (31-120 days)' 'Fully Paid' 'Charged Off'\n",
      " 'Late (16-30 days)' 'In Grace Period' 'Default']\n",
      "pymnt_plan: ['n' 'y']\n",
      "purpose: ['debt_consolidation' 'credit_card' 'house' 'home_improvement' 'other'\n",
      " 'medical' 'small_business' 'moving' 'vacation' 'major_purchase' 'car'\n",
      " 'renewable_energy' 'wedding']\n",
      "title: ['Debt consolidation' 'Credit card refinancing' 'Home buying'\n",
      " 'Home improvement' 'Other' nan 'Medical expenses' 'Business'\n",
      " 'Moving and relocation' 'Vacation' 'Major purchase' 'Car financing'\n",
      " 'Green loan' 'Credit Card Consolidation']\n",
      "zip_code: ['465xx' '328xx' '645xx' '895xx' '657xx' '333xx' '217xx' '086xx' '480xx'\n",
      " '446xx' '917xx' '234xx' '871xx' '752xx' '357xx' '728xx' '402xx' '105xx'\n",
      " '891xx' '786xx' '379xx' '300xx' '146xx' '074xx' '610xx' '114xx' '140xx'\n",
      " '231xx' '782xx' '577xx' '713xx' '331xx' '600xx' '344xx' '441xx' '330xx'\n",
      " '492xx' '937xx' '320xx' '921xx' '212xx' '341xx' '076xx' '919xx' '785xx'\n",
      " '119xx' '028xx' '920xx' '208xx' '759xx' '339xx' '456xx' '927xx' '550xx'\n",
      " '852xx' '761xx' '988xx' '018xx' '530xx' '021xx' '461xx' '601xx' '551xx'\n",
      " '531xx' '606xx' '277xx' '630xx' '989xx' '572xx' '926xx' '623xx' '721xx'\n",
      " '784xx' '853xx' '770xx' '894xx' '301xx' '136xx' '750xx' '017xx' '287xx'\n",
      " '953xx' '968xx' '850xx' '672xx' '440xx' '670xx' '390xx' '284xx' '928xx'\n",
      " '581xx' '708xx' '054xx' '112xx' '729xx' '922xx' '563xx' '232xx' '100xx'\n",
      " '405xx' '285xx' '103xx' '560xx' '142xx' '447xx' '723xx' '335xx' '104xx'\n",
      " '902xx' '797xx' '191xx' '352xx' '476xx' '020xx' '913xx' '325xx' '629xx'\n",
      " '115xx' '370xx' '223xx' '946xx' '222xx' '554xx' '038xx' '123xx' '273xx'\n",
      " '106xx' '210xx' '914xx' '787xx' '481xx' '361xx' '201xx' '760xx' '970xx'\n",
      " '400xx' '843xx' '346xx' '992xx' '641xx' '774xx' '980xx' '603xx' '145xx'\n",
      " '460xx' '351xx' '483xx' '933xx' '207xx' '768xx' '141xx' '211xx' '077xx'\n",
      " '078xx' '945xx' '437xx' '639xx' '706xx' '048xx' '543xx' '769xx' '804xx'\n",
      " '482xx' '173xx' '452xx' '620xx' '371xx' '282xx' '276xx' '776xx' '283xx'\n",
      " '070xx' '032xx' '952xx' '762xx' '932xx' '288xx' '800xx' '741xx' '296xx'\n",
      " '450xx' '329xx' '722xx' '488xx' '374xx' '030xx' '801xx' '930xx' '327xx'\n",
      " '220xx' '313xx' '950xx' '151xx' '857xx' '754xx' '802xx' '150xx' '291xx'\n",
      " '773xx' '308xx' '109xx' '470xx' '302xx' '906xx' '420xx' '982xx' '303xx'\n",
      " '890xx' '042xx' '755xx' '840xx' '183xx' '981xx' '226xx' '496xx' '033xx'\n",
      " '660xx' '023xx' '125xx' '604xx' '085xx' '535xx' '778xx' '806xx' '631xx'\n",
      " '120xx' '256xx' '541xx' '080xx' '486xx' '442xx' '368xx' '949xx' '044xx'\n",
      " '448xx' '971xx' '751xx' '827xx' '255xx' '967xx' '176xx' '168xx' '908xx'\n",
      " '064xx' '338xx' '372xx' '775xx' '809xx' '883xx' '454xx' '281xx' '681xx'\n",
      " '117xx' '564xx' '245xx' '666xx' '199xx' '238xx' '349xx' '605xx' '148xx'\n",
      " '730xx' '111xx' '956xx' '916xx' '172xx' '808xx' '388xx' '381xx' '851xx'\n",
      " '396xx' '116xx' '468xx' '286xx' '731xx' '066xx' '040xx' '607xx' '781xx'\n",
      " '975xx' '347xx' '122xx' '553xx' '334xx' '445xx' '292xx' '432xx' '316xx'\n",
      " '805xx' '367xx' '293xx' '498xx' '740xx' '336xx' '907xx' '650xx' '060xx'\n",
      " '958xx' '321xx' '959xx' '791xx' '622xx' '015xx' '935xx' '315xx' '951xx'\n",
      " '373xx' '684xx' '350xx' '627xx' '542xx' '081xx' '834xx' '549xx' '435xx'\n",
      " '943xx' '181xx' '940xx' '941xx' '319xx' '780xx' '107xx' '558xx' '310xx'\n",
      " '490xx' '744xx' '924xx' '983xx' '403xx' '280xx' '430xx' '124xx' '088xx'\n",
      " '270xx' '360xx' '197xx' '984xx' '700xx' '071xx' '052xx' '898xx' '156xx'\n",
      " '198xx' '777xx' '443xx' '546xx' '571xx' '186xx' '707xx' '826xx' '836xx'\n",
      " '646xx' '067xx' '923xx' '668xx' '128xx' '925xx' '724xx' '633xx' '720xx'\n",
      " '243xx' '957xx' '275xx' '767xx' '083xx' '934xx' '233xx' '337xx' '221xx'\n",
      " '479xx' '493xx' '832xx' '685xx' '241xx' '378xx' '307xx' '662xx' '180xx'\n",
      " '200xx' '996xx' '900xx' '230xx' '678xx' '444xx' '049xx' '757xx' '995xx'\n",
      " '137xx' '026xx' '712xx' '439xx' '153xx' '841xx' '421xx' '487xx' '194xx'\n",
      " '342xx' '611xx' '882xx' '972xx' '121xx' '063xx' '272xx' '359xx' '820xx'\n",
      " '597xx' '113xx' '640xx' '326xx' '410xx' '163xx' '274xx' '875xx' '534xx'\n",
      " '954xx' '825xx' '190xx' '495xx' '905xx' '294xx' '305xx' '236xx' '219xx'\n",
      " '463xx' '157xx' '306xx' '011xx' '944xx' '679xx' '873xx' '598xx' '991xx'\n",
      " '087xx' '195xx' '494xx' '765xx' '397xx' '295xx' '079xx' '431xx' '193xx'\n",
      " '689xx' '602xx' '539xx' '585xx' '072xx' '235xx' '154xx' '671xx' '462xx'\n",
      " '050xx' '290xx' '206xx' '985xx' '727xx' '624xx' '846xx' '582xx' '532xx'\n",
      " '758xx' '196xx' '377xx' '763xx' '688xx' '189xx' '298xx' '144xx' '118xx'\n",
      " '365xx' '617xx' '458xx' '271xx' '824xx' '014xx' '467xx' '027xx' '065xx'\n",
      " '587xx' '398xx' '010xx' '393xx' '874xx' '544xx' '135xx' '029xx' '034xx'\n",
      " '240xx' '634xx' '161xx' '134xx' '322xx' '716xx' '948xx' '856xx' '401xx'\n",
      " '138xx' '683xx' '152xx' '863xx' '931xx' '073xx' '110xx' '794xx' '562xx'\n",
      " '810xx' '392xx' '974xx' '557xx' '061xx' '147xx' '224xx' '799xx' '491xx'\n",
      " '986xx' '433xx' '237xx' '747xx' '453xx' '497xx' '089xx' '484xx' '790xx'\n",
      " '039xx' '701xx' '703xx' '366xx' '978xx' '395xx' '130xx' '615xx' '667xx'\n",
      " '473xx' '068xx' '024xx' '175xx' '915xx' '648xx' '019xx' '471xx' '478xx'\n",
      " '299xx' '386xx' '053xx' '317xx' '171xx' '565xx' '324xx' '035xx' '743xx'\n",
      " '911xx' '500xx' '425xx' '451xx' '062xx' '783xx' '166xx' '936xx' '184xx'\n",
      " '939xx' '559xx' '216xx' '474xx' '655xx' '384xx' '012xx' '143xx' '912xx'\n",
      " '960xx' '404xx' '278xx' '833xx' '182xx' '973xx' '538xx' '613xx' '807xx'\n",
      " '993xx' '016xx' '354xx' '616xx' '149xx' '477xx' '434xx' '618xx' '075xx'\n",
      " '229xx' '380xx' '998xx' '228xx' '656xx' '910xx' '355xx' '209xx' '903xx'\n",
      " '779xx' '323xx' '391xx' '101xx' '187xx' '612xx' '976xx' '793xx' '358xx'\n",
      " '594xx' '489xx' '590xx' '704xx' '225xx' '155xx' '859xx' '041xx' '540xx'\n",
      " '838xx' '382xx' '469xx' '711xx' '165xx' '756xx' '159xx' '628xx' '609xx'\n",
      " '822xx' '242xx' '837xx' '625xx' '735xx' '170xx' '309xx' '356xx' '472xx'\n",
      " '576xx' '455xx' '567xx' '626xx' '318xx' '457xx' '082xx' '829xx' '680xx'\n",
      " '788xx' '436xx' '132xx' '037xx' '376xx' '847xx' '595xx' '178xx' '796xx'\n",
      " '133xx' '362xx' '364xx' '661xx' '580xx' '687xx' '904xx' '812xx' '314xx'\n",
      " '561xx' '297xx' '185xx' '411xx' '748xx' '332xx' '383xx' '406xx' '129xx'\n",
      " '596xx' '739xx' '705xx' '164xx' '881xx' '131xx' '963xx' '961xx' '844xx'\n",
      " '069xx' '407xx' '813xx' '045xx' '057xx' '725xx' '363xx' '056xx' '816xx'\n",
      " '651xx' '870xx' '043xx' '545xx' '279xx' '013xx' '664xx' '250xx' '389xx'\n",
      " '466xx' '025xx' '031xx' '947xx' '251xx' '422xx' '499xx' '547xx' '227xx'\n",
      " '860xx' '737xx' '977xx' '264xx' '814xx' '644xx' '215xx' '614xx' '160xx'\n",
      " '658xx' '548xx' '289xx' '675xx' '102xx' '766xx' '387xx' '619xx' '726xx'\n",
      " '592xx' '162xx' '218xx' '426xx' '652xx' '127xx' '265xx' '686xx' '312xx'\n",
      " '608xx' '438xx' '449xx' '051xx' '795xx' '424xx' '864xx' '746xx' '252xx'\n",
      " '674xx' '999xx' '803xx' '394xx' '714xx' '260xx' '749xx' '764xx' '174xx'\n",
      " '423xx' '304xx' '047xx' '385xx' '653xx' '811xx' '880xx' '464xx' '537xx'\n",
      " '570xx' '815xx' '997xx' '676xx' '588xx' '214xx' '239xx' '637xx' '830xx'\n",
      " '254xx' '828xx' '831xx' '865xx' '647xx' '789xx' '665xx' '719xx' '179xx'\n",
      " '990xx' '244xx' '994xx' '139xx' '897xx' '427xx' '108xx' '158xx' '167xx'\n",
      " '485xx' '710xx' '691xx' '084xx' '718xx' '575xx' '573xx' '636xx' '745xx'\n",
      " '693xx' '599xx' '574xx' '591xx' '638xx' '046xx' '246xx' '823xx' '690xx'\n",
      " '022xx' '845xx' '247xx' '798xx' '409xx' '188xx' '955xx' '475xx' '979xx'\n",
      " '353xx' '734xx' '717xx' '654xx' '126xx' '855xx' '677xx' '586xx' '412xx'\n",
      " '792xx' '090xx' '918xx' '091xx' '635xx' '566xx' '177xx' '593xx' '584xx'\n",
      " '415xx' '583xx' '263xx' '772xx' '835xx' '692xx' '417xx' '738xx' '669xx'\n",
      " '253xx' '169xx' '059xx' '058xx' '893xx' '262xx' '036xx' '673xx' '416xx'\n",
      " '753xx' '259xx' '408xx' '877xx' '096xx' '413xx' '736xx' '418xx' '502xx'\n",
      " '204xx' '878xx' '884xx' '556xx' '095xx' '268xx' '962xx' '202xx' '257xx'\n",
      " '258xx' '369xx' '266xx' '969xx' '261xx' '249xx' '885xx' '267xx' '966xx'\n",
      " '414xx' '879xx' '094xx' '521xx' '311xx' '340xx' '097xx' '854xx' '965xx'\n",
      " '702xx' '343xx' '821xx' '093xx' '663xx' '098xx' '348xx' '506xx' '008xx'\n",
      " '861xx' nan '698xx' '942xx' '248xx' '528xx' '555xx' '872xx' '909xx'\n",
      " '345xx' '055xx' '569xx' '525xx' '510xx' '694xx' '007xx' '742xx' '092xx'\n",
      " '964xx' '621xx' '987xx' '009xx' '523xx']\n",
      "addr_state: ['IN' 'FL' 'MO' 'NV' 'MD' 'NJ' 'MI' 'OH' 'CA' 'VA' 'NM' 'TX' 'AL' 'AR'\n",
      " 'KY' 'NY' 'TN' 'GA' 'IL' 'SD' 'LA' 'RI' 'MN' 'AZ' 'WA' 'MA' 'WI' 'NC'\n",
      " 'HI' 'KS' 'MS' 'ND' 'VT' 'PA' 'NH' 'OR' 'UT' 'ME' 'CO' 'OK' 'SC' 'WV'\n",
      " 'WY' 'CT' 'NE' 'DE' 'ID' 'DC' 'AK' 'MT']\n",
      "earliest_cr_line: ['Jun-2005' 'Sep-2007' 'Sep-1992' 'Sep-1975' 'Sep-2012' 'Jul-1996'\n",
      " 'Dec-2000' 'Apr-2005' 'Sep-2008' 'Apr-2006' 'Dec-2001' 'Sep-2004'\n",
      " 'Feb-2005' 'Jul-2006' 'Dec-1987' 'Aug-2001' 'Apr-2002' 'Feb-1997'\n",
      " 'Jul-1985' 'Mar-1996' 'Sep-1999' 'Jun-2012' 'Jun-2000' 'Mar-2000'\n",
      " 'Jan-2006' 'Jan-2002' 'Oct-1968' 'Feb-2003' 'Feb-2012' 'Mar-2005'\n",
      " 'Apr-1989' 'Nov-1996' 'Feb-1976' 'Jan-1991' 'May-1990' 'Dec-1994'\n",
      " 'Sep-2011' 'Dec-2003' 'Mar-1984' 'Jul-1983' 'Oct-2008' 'Feb-2004'\n",
      " 'Sep-2003' 'Jul-1998' 'Jan-2004' 'Apr-2004' 'Apr-1999' 'May-2006'\n",
      " 'Jan-1999' 'Nov-2012' 'Nov-1994' 'Dec-1976' 'Jun-1999' 'Dec-1984'\n",
      " 'Jul-2000' 'Aug-2002' 'May-1995' 'Mar-2002' 'Jun-1998' 'Dec-1999'\n",
      " 'Jan-2005' 'Nov-2002' 'Feb-2002' 'Nov-1988' 'Aug-2005' 'Jan-1998'\n",
      " 'Oct-2007' 'Apr-1985' 'Sep-1998' 'Nov-1997' 'Aug-2008' 'Jan-2010'\n",
      " 'Aug-2009' 'May-2007' 'Nov-1999' 'Mar-2008' 'Oct-2005' 'Nov-2001'\n",
      " 'Mar-1994' 'Jan-1983' 'May-2002' 'Nov-1993' 'Aug-1991' 'Oct-2001'\n",
      " 'Feb-1991' 'Dec-1990' 'Nov-1981' 'Oct-2004' 'Mar-1989' 'May-1988'\n",
      " 'Oct-1998' 'Jul-2003' 'Sep-2000' 'May-1996' 'May-2005' 'Aug-2003'\n",
      " 'Sep-2010' 'Mar-2004' 'Jan-1990' 'Aug-2012' 'Sep-1994' 'Apr-2000'\n",
      " 'Jan-1986' 'May-1994' 'Jul-2004' 'May-2004' 'Nov-2000' 'Dec-2006'\n",
      " 'Jun-1997' 'Apr-1987' 'Oct-1990' 'Oct-1999' 'Oct-1995' 'May-2003'\n",
      " 'Aug-2000' 'Sep-2002' 'Feb-2008' 'Mar-2007' 'Jan-1993' 'Dec-2008'\n",
      " 'Jun-1995' 'Jan-1995' 'Feb-1979' 'Jul-2002' 'Jun-2006' 'Feb-1999'\n",
      " 'Aug-2007' 'Jan-1996' 'Sep-1997' 'May-2008' 'Sep-1995' 'Apr-1998'\n",
      " 'Dec-2004' 'Aug-1998' 'Oct-2000' 'Nov-2004' 'Aug-1999' 'Aug-1997'\n",
      " 'May-2001' 'Jul-1999' 'Jan-2008' 'Jun-1994' 'Jun-2010' 'Apr-2007'\n",
      " 'Oct-2003' 'Jul-2005' 'Jun-2008' 'Mar-2001' 'Jan-2011' 'Jun-2001'\n",
      " 'Dec-1977' 'Sep-2013' 'Mar-2010' 'Dec-2005' 'Jun-2011' 'Jan-2001'\n",
      " 'Jan-1994' 'Jan-2009' 'Apr-1971' 'Apr-1990' 'Feb-2006' 'Dec-2010'\n",
      " 'Mar-2013' 'May-1993' 'Jan-1997' 'Apr-1995' 'Sep-1986' 'Apr-1996'\n",
      " 'Aug-2010' 'Dec-1982' 'Nov-2011' 'Apr-2001' 'Sep-2001' 'Nov-2006'\n",
      " 'Feb-1987' 'May-2000' 'Sep-1993' 'May-1999' 'Feb-2000' 'Dec-2009'\n",
      " 'Feb-1996' 'Sep-2005' 'Sep-2009' 'Dec-2002' 'Apr-1978' 'Jun-2003'\n",
      " 'Jul-1992' 'Oct-1984' 'Mar-2009' 'Jan-2014' 'Mar-2003' 'Nov-2007'\n",
      " 'Aug-2004' 'Mar-1998' 'Nov-2005' 'Jul-2001' 'Aug-1984' 'Mar-1999'\n",
      " 'Aug-1996' 'Aug-2006' 'Feb-2001' 'Nov-2010' 'Oct-1988' 'May-1998'\n",
      " 'Jan-1989' 'Oct-1986' 'Jun-2004' 'Dec-1998' 'Nov-2003' 'May-1980'\n",
      " 'Jul-1995' 'Oct-1976' 'Nov-2009' 'Oct-1997' 'Oct-2002' 'Dec-1991'\n",
      " 'Sep-2006' 'Jul-2009' 'Mar-2012' 'Aug-1992' 'Mar-2011' 'May-1989'\n",
      " 'May-1984' 'Jun-2007' 'Oct-1989' 'Apr-2003' 'Jan-2003' 'Feb-1994'\n",
      " 'Aug-1989' 'Dec-2012' 'Dec-1983' 'Feb-2009' 'Nov-1998' 'Jul-1987'\n",
      " 'Jan-2000' 'Aug-1987' 'Jun-2002' 'Jul-2007' 'Jun-2009' 'Oct-1996'\n",
      " 'Feb-2007' 'Sep-1983' 'Nov-1989' 'Jun-1993' 'Nov-1987' 'Aug-1993'\n",
      " 'Oct-2013' 'Apr-2012' 'Mar-1997' 'Mar-1995' 'Jun-1983' 'Apr-1973'\n",
      " 'Apr-2008' 'Mar-1991' 'Jul-2012' 'Feb-1995' 'Dec-2007' 'Oct-2006'\n",
      " 'Sep-1996' 'Oct-2011' 'Mar-2006' 'Apr-2014' 'Feb-1998' 'May-1992'\n",
      " 'Nov-1995' 'Feb-1985' 'Sep-1970' 'May-1986' 'Nov-2013' 'Oct-2009'\n",
      " 'Mar-1982' 'May-2009' 'Feb-1983' 'Jul-2010' 'Sep-1988' 'Sep-1991'\n",
      " 'Oct-1987' 'Jul-1997' 'Jan-2012' 'Dec-1995' 'Jan-1988' 'Jun-1991'\n",
      " 'Mar-1981' 'Aug-1980' 'May-1971' 'Dec-1993' 'Feb-1992' 'Feb-2013'\n",
      " 'Jan-2007' 'Jan-1979' 'May-1997' 'Nov-1992' 'May-1975' 'Jun-2013'\n",
      " 'Aug-1985' 'Jun-1990' 'Nov-1982' 'Dec-1974' 'Jun-1970' 'Jul-1988'\n",
      " 'Jan-1985' 'Nov-1986' 'Aug-1995' 'Oct-1993' 'Nov-1984' 'Jul-2008'\n",
      " 'Oct-1971' 'Jan-1992' 'Jun-1984' 'Sep-1978' 'Aug-1994' 'Apr-1994'\n",
      " 'Jan-1981' 'Mar-1993' 'Nov-1971' 'Aug-2013' 'Aug-1990' 'Oct-1982'\n",
      " 'Nov-1985' 'Jul-2013' 'Mar-2014' 'May-2010' 'Oct-1974' 'Apr-1993'\n",
      " 'Aug-1986' 'Jul-1990' 'Mar-1976' 'Nov-2008' 'Oct-1994' 'Apr-2009'\n",
      " 'Jul-2011' 'Dec-1997' 'May-1978' 'Jun-1976' 'Feb-2010' 'May-1966'\n",
      " 'Mar-1992' 'Aug-2011' 'Aug-1982' 'Sep-1980' 'Oct-2012' 'Jun-1986'\n",
      " 'Jan-1976' 'Dec-1996' 'May-1982' 'Feb-1970' 'Jul-1993' 'May-2011'\n",
      " 'May-1985' 'Sep-1979' 'Mar-1966' 'Apr-1983' 'Apr-1984' 'Aug-1983'\n",
      " 'Nov-1991' 'Oct-1985' 'Mar-1979' 'Apr-2010' 'Feb-1984' 'Aug-1988'\n",
      " 'Sep-1990' 'Jul-1982' 'Feb-1986' 'Dec-2011' 'Nov-1990' 'Sep-1985'\n",
      " 'Sep-1987' 'Mar-1986' 'Jun-1996' 'Jul-1994' 'Feb-1989' 'Dec-1985'\n",
      " 'Oct-1992' 'Mar-1977' 'Jul-1979' 'Apr-1997' 'Mar-1987' 'Jun-1985'\n",
      " 'Jan-1953' 'Sep-1976' 'Mar-1990' 'May-1977' 'Jun-1992' 'Dec-1975'\n",
      " 'Sep-1984' 'May-1987' 'Feb-1978' 'Sep-1989' 'Jun-1988' 'Oct-1991'\n",
      " 'Dec-1989' 'Jun-1982' 'Jun-1977' 'Jun-1987' 'Aug-1975' 'Feb-1977'\n",
      " 'Apr-1992' 'Mar-1985' 'May-1991' 'Jun-1974' 'Oct-2010' 'Dec-1986'\n",
      " 'Aug-1981' 'May-1981' 'Jun-1989' 'Mar-1988' 'Jan-1964' 'Feb-1993'\n",
      " 'May-2013' 'Feb-1988' 'Sep-1972' 'Dec-1992' 'Nov-1978' 'Apr-1991'\n",
      " 'Dec-1988' 'Dec-2013' 'Feb-2011' 'Apr-1981' 'Apr-1986' 'Jan-1987'\n",
      " 'Jul-1984' 'Jan-1969' 'Feb-2014' 'Nov-1974' 'Jan-1970' 'Dec-1980'\n",
      " 'Apr-1988' 'Oct-1979' 'Jul-1981' 'Jul-1991' 'Mar-1978' 'Nov-1979'\n",
      " 'Apr-1975' 'Jul-1976' 'Oct-1981' 'Jan-1982' 'Oct-1983' 'Nov-1983'\n",
      " 'May-2012' 'Sep-1974' 'Apr-2011' 'Aug-1978' 'Jun-2014' 'Sep-1982'\n",
      " 'Apr-1976' 'Aug-1979' 'Dec-1981' 'Nov-1972' 'Feb-1982' 'Jul-1980'\n",
      " 'Sep-1977' 'Dec-1966' 'Apr-2013' 'May-1983' 'Jan-2013' 'Mar-1974'\n",
      " 'Mar-1980' 'Apr-1977' 'Dec-1971' 'Oct-1975' 'Jun-1979' 'Apr-1980'\n",
      " 'Jun-1981' 'Sep-1971' 'Jul-1977' 'Dec-1973' 'Jan-1984' 'Jan-1978'\n",
      " 'Aug-1971' 'Nov-1980' 'Dec-1964' 'Apr-1982' 'Jan-1963' 'Aug-1972'\n",
      " 'Jul-1989' 'Feb-1967' 'May-1968' 'Nov-1961' 'Jul-1978' 'Mar-1983'\n",
      " 'Jul-1964' 'Feb-1990' 'Feb-1981' 'Jul-1959' 'Jul-1972' 'Nov-1977'\n",
      " 'Aug-1976' 'Jan-1975' 'Mar-1975' 'Feb-1980' 'Oct-1973' 'Nov-1976'\n",
      " 'Jun-1972' 'Jun-1978' 'May-2014' 'Jun-1980' 'Feb-1972' 'Feb-1973'\n",
      " 'May-1973' 'Feb-1974' 'May-1972' 'Jan-1973' 'May-1969' 'Nov-1973'\n",
      " 'Aug-1977' 'Jul-1974' 'Apr-1979' 'Jan-1965' 'May-1979' 'Sep-1969'\n",
      " 'Feb-1968' 'Jul-1970' 'Oct-1980' 'Jan-1980' 'May-1962' 'Jul-1975'\n",
      " 'Jan-1960' 'Sep-1981' 'Dec-1979' 'Mar-1969' 'Mar-1973' 'Jun-1975'\n",
      " 'Jul-1986' 'Jan-1972' 'Sep-1967' 'Jan-1966' 'Aug-1974' 'Apr-1966'\n",
      " 'Jun-1973' 'Jul-1971' 'Mar-1972' 'Nov-1975' 'Dec-1972' 'Jul-2014'\n",
      " 'May-1967' 'Dec-1970' 'Aug-1966' 'Apr-1968' 'Oct-1978' 'Aug-1973'\n",
      " 'Mar-1970' 'May-1976' 'Oct-1977' 'Feb-1971' 'Feb-1945' 'Sep-1968'\n",
      " 'Jul-1969' 'Oct-1970' 'Mar-1964' 'Feb-1975' 'Aug-1968' 'Nov-1965'\n",
      " 'Jan-1977' 'Dec-1969' 'Nov-1968' 'Nov-1970' 'Dec-1978' 'Oct-1967'\n",
      " 'Oct-1969' 'Apr-1972' 'Aug-1967' 'Sep-1951' 'Jan-1974' 'Jun-1971'\n",
      " 'Dec-1968' 'Mar-1965' 'Apr-1970' 'Apr-1974' 'Oct-1972' 'Apr-1964'\n",
      " 'Sep-1973' 'May-1963' 'Jan-1967' 'Jul-1958' 'May-1965' 'Aug-2014'\n",
      " 'Feb-1965' 'Aug-1970' 'Mar-1971' 'Aug-1964' 'Feb-1969' 'May-1974'\n",
      " 'Nov-1969' 'Jun-1965' 'Jul-1973' 'Oct-1961' 'Jul-1967' 'Apr-1969'\n",
      " 'Nov-1964' 'Jun-1969' 'Feb-1966' 'Apr-1965' 'Dec-1965' 'Jun-1967'\n",
      " 'Jan-1971' 'Jul-1966' 'Jul-1968' 'Oct-1964' 'Jan-1962' 'Apr-1967'\n",
      " 'Nov-1966' 'Jan-1959' 'Jun-1966' 'Jun-1968' 'Mar-1968' 'Jan-1958'\n",
      " 'May-1964' 'Dec-1956' 'Apr-1963' 'Nov-1960' 'Sep-1965' 'Dec-1960'\n",
      " 'Mar-1967' 'Nov-1963' 'Apr-1961' 'Nov-1967' 'Jun-1964' 'Oct-1966'\n",
      " 'Sep-1964' 'Aug-1969' 'May-1959' 'Jan-1968' 'May-1970' 'Aug-1957'\n",
      " 'Dec-1963' 'Jan-1950' 'Mar-1963' 'Jan-1951' 'Jul-1952' 'Nov-1962'\n",
      " 'Jan-1961' 'Aug-1963' 'Jul-1963' 'Jan-1957' 'Jul-1965' 'May-1961'\n",
      " 'Dec-1967' 'Jun-1962' 'Oct-1965' 'Aug-1959' 'Jul-1961' 'Aug-1965'\n",
      " 'Dec-1959' 'Feb-1964' 'Apr-1962' 'Dec-1962' 'Oct-1963' 'Jan-1956'\n",
      " 'Aug-1962' 'Sep-1966' 'Mar-1954' 'Jun-1963' 'Sep-1961' 'Apr-1934'\n",
      " 'Jul-1962' 'Sep-1963' 'Jul-1960' 'Aug-1961' 'Apr-1955' 'Mar-1962'\n",
      " 'Nov-1959' 'Feb-1960' 'Apr-1960' 'Jun-1959' 'Feb-1959' 'Nov-1957'\n",
      " 'Jun-1960' 'Aug-1953' 'Nov-1952' 'Jun-1961' 'Jan-1948' 'Dec-1958'\n",
      " 'Jun-1958' 'Feb-1961' 'Mar-1957' 'Feb-1934' 'Feb-1963' 'Mar-1933'\n",
      " 'Jun-1957' 'Aug-1958' 'Mar-1961' 'Oct-1960' 'Aug-1941' 'Feb-1962'\n",
      " 'Jan-1952' 'Jun-1952' 'Oct-1958' 'May-1960' 'Mar-1959' 'Sep-1962'\n",
      " 'Mar-1960' 'Aug-1960' 'Jan-1955' 'Apr-1958' 'May-1958']\n",
      "initial_list_status: ['w' 'f']\n",
      "last_pymnt_d: ['Dec-2017' 'Oct-2017' 'Sep-2017' 'Aug-2017' 'Nov-2017' 'Apr-2017'\n",
      " 'May-2017' 'Nov-2016' 'Sep-2016' 'Jul-2017' 'Apr-2016' 'Jun-2017'\n",
      " 'Jun-2016' 'Oct-2016' 'Mar-2017' 'Feb-2017' 'May-2016' 'Aug-2016'\n",
      " 'Jan-2017' 'Jul-2016' 'Dec-2016' 'Feb-2016' nan 'Mar-2016' 'Jan-2016']\n",
      "next_pymnt_d: ['Jan-2018' nan 'Dec-2017' 'Feb-2018']\n",
      "last_credit_pull_d: ['Dec-2017' 'Nov-2017' 'Oct-2017' 'Jun-2017' 'Jul-2017' 'Mar-2017'\n",
      " 'Jun-2016' 'May-2017' 'Apr-2017' 'Sep-2017' 'Aug-2017' 'Feb-2017'\n",
      " 'Oct-2016' 'May-2016' 'Jan-2017' 'Jul-2016' 'Dec-2016' 'Aug-2016'\n",
      " 'Nov-2016' 'Apr-2016' 'Sep-2016' nan 'Mar-2016' 'Feb-2016' 'Jan-2016'\n",
      " 'Dec-2015']\n",
      "application_type: ['Individual' 'Joint App']\n"
     ]
    }
   ],
   "source": [
    "for col in x_train.select_dtypes(include=['object', 'category', 'bool']).columns: \n",
    "    print(f'{col}: {x_train[col].unique()}')"
   ],
   "metadata": {
    "collapsed": false,
    "ExecuteTime": {
     "end_time": "2024-12-11T12:18:13.621438Z",
     "start_time": "2024-12-11T12:18:12.765870Z"
    }
   },
   "id": "90f99f18aa19b59"
  },
  {
   "cell_type": "code",
   "execution_count": 194,
   "outputs": [],
   "source": [
    "columns_need_to_clean = ['term', 'emp_length', 'issue_d', 'earliest_cr_line', 'revol_util', 'initial_list_status', 'last_pymnt_d', 'last_credit_pull_d']"
   ],
   "metadata": {
    "collapsed": false,
    "ExecuteTime": {
     "end_time": "2024-12-11T12:18:13.630069Z",
     "start_time": "2024-12-11T12:18:13.623199Z"
    }
   },
   "id": "c12f3524ccdf74a0"
  },
  {
   "cell_type": "markdown",
   "source": [
    "### Cleaning Categorical Columns"
   ],
   "metadata": {
    "collapsed": false
   },
   "id": "f71d09fb45d2cd0b"
  },
  {
   "cell_type": "code",
   "execution_count": 195,
   "outputs": [
    {
     "data": {
      "text/plain": "term\n36 months    449330\n60 months    158140\nName: count, dtype: int64"
     },
     "execution_count": 195,
     "metadata": {},
     "output_type": "execute_result"
    }
   ],
   "source": [
    "x_train['term'].value_counts()"
   ],
   "metadata": {
    "collapsed": false,
    "ExecuteTime": {
     "end_time": "2024-12-11T12:18:13.679791Z",
     "start_time": "2024-12-11T12:18:13.671961Z"
    }
   },
   "id": "caa90ad4ab6056e0"
  },
  {
   "cell_type": "code",
   "execution_count": 196,
   "outputs": [],
   "source": [
    "x_train['term'] = x_train['term'].str.extract('(\\d+)')\n",
    "x_test['term'] = x_test['term'].str.extract('(\\d+)')"
   ],
   "metadata": {
    "collapsed": false,
    "ExecuteTime": {
     "end_time": "2024-12-11T12:18:15.737601Z",
     "start_time": "2024-12-11T12:18:13.688141Z"
    }
   },
   "id": "cf86abcd111314ee"
  },
  {
   "cell_type": "code",
   "execution_count": 197,
   "outputs": [],
   "source": [
    "x_train['term'] = pd.to_numeric(x_train['term'])\n",
    "x_test['term'] = pd.to_numeric(x_test['term'])"
   ],
   "metadata": {
    "collapsed": false,
    "ExecuteTime": {
     "end_time": "2024-12-11T12:18:16.073422Z",
     "start_time": "2024-12-11T12:18:15.737937Z"
    }
   },
   "id": "df0e2b286f0a4613"
  },
  {
   "cell_type": "code",
   "execution_count": 198,
   "outputs": [
    {
     "data": {
      "text/plain": "emp_length\n10+ years    206066\n2 years       55739\n< 1 year      50176\n3 years       48584\n1 year        40524\n5 years       36949\n4 years       36458\n6 years       26061\n8 years       23002\n9 years       22845\n7 years       20561\nName: count, dtype: int64"
     },
     "execution_count": 198,
     "metadata": {},
     "output_type": "execute_result"
    }
   ],
   "source": [
    "x_train['emp_length'].value_counts()"
   ],
   "metadata": {
    "collapsed": false,
    "ExecuteTime": {
     "end_time": "2024-12-11T12:18:16.120961Z",
     "start_time": "2024-12-11T12:18:16.117324Z"
    }
   },
   "id": "a5148caad2f2b854"
  },
  {
   "cell_type": "code",
   "execution_count": 199,
   "outputs": [],
   "source": [
    "# replace < 1 year with 0\n",
    "x_train['emp_length'] = x_train['emp_length'].str.replace('< 1 year', '0')\n",
    "x_train['emp_length'] = x_train['emp_length'].str.extract('(\\d+)')\n",
    "\n",
    "x_test['emp_length'] = x_test['emp_length'].str.replace('< 1 year', '0')\n",
    "x_test['emp_length'] = x_test['emp_length'].str.extract('(\\d+)')"
   ],
   "metadata": {
    "collapsed": false,
    "ExecuteTime": {
     "end_time": "2024-12-11T12:18:17.602371Z",
     "start_time": "2024-12-11T12:18:16.121933Z"
    }
   },
   "id": "dfb7e7a712ee3788"
  },
  {
   "cell_type": "code",
   "execution_count": 200,
   "outputs": [
    {
     "data": {
      "text/plain": "emp_length\n10.0    206066\n2.0      55739\n0.0      50176\n3.0      48584\n1.0      40524\n5.0      36949\n4.0      36458\n6.0      26061\n8.0      23002\n9.0      22845\n7.0      20561\nName: count, dtype: int64"
     },
     "execution_count": 200,
     "metadata": {},
     "output_type": "execute_result"
    }
   ],
   "source": [
    "x_train['emp_length'] = pd.to_numeric(x_train['emp_length'])\n",
    "x_test['emp_length'] = pd.to_numeric(x_test['emp_length'])\n",
    "x_train['emp_length'].value_counts()"
   ],
   "metadata": {
    "collapsed": false,
    "ExecuteTime": {
     "end_time": "2024-12-11T12:18:17.915504Z",
     "start_time": "2024-12-11T12:18:17.893817Z"
    }
   },
   "id": "e4bd87d1b9c28d91"
  },
  {
   "cell_type": "markdown",
   "source": [
    "### Filling Missing Values\n",
    "filling missing values in the emp_length column with 0"
   ],
   "metadata": {
    "collapsed": false
   },
   "id": "aa683d192c005fde"
  },
  {
   "cell_type": "code",
   "execution_count": 201,
   "outputs": [
    {
     "data": {
      "text/plain": "np.int64(40505)"
     },
     "execution_count": 201,
     "metadata": {},
     "output_type": "execute_result"
    }
   ],
   "source": [
    "# check missing emp_length\n",
    "x_train['emp_length'].isnull().sum()"
   ],
   "metadata": {
    "collapsed": false,
    "ExecuteTime": {
     "end_time": "2024-12-11T12:18:17.923335Z",
     "start_time": "2024-12-11T12:18:17.915178Z"
    }
   },
   "id": "9b5e0ecf89581686"
  },
  {
   "cell_type": "code",
   "execution_count": 202,
   "outputs": [
    {
     "name": "stderr",
     "output_type": "stream",
     "text": [
      "/var/folders/86/0ktjtbzj13b2z0b54356w3h00000gn/T/ipykernel_5928/446331516.py:2: FutureWarning: A value is trying to be set on a copy of a DataFrame or Series through chained assignment using an inplace method.\n",
      "The behavior will change in pandas 3.0. This inplace method will never work because the intermediate object on which we are setting values always behaves as a copy.\n",
      "\n",
      "For example, when doing 'df[col].method(value, inplace=True)', try using 'df.method({col: value}, inplace=True)' or df[col] = df[col].method(value) instead, to perform the operation inplace on the original object.\n",
      "\n",
      "\n",
      "  x_train['emp_length'].fillna(0, inplace=True)\n",
      "/var/folders/86/0ktjtbzj13b2z0b54356w3h00000gn/T/ipykernel_5928/446331516.py:3: FutureWarning: A value is trying to be set on a copy of a DataFrame or Series through chained assignment using an inplace method.\n",
      "The behavior will change in pandas 3.0. This inplace method will never work because the intermediate object on which we are setting values always behaves as a copy.\n",
      "\n",
      "For example, when doing 'df[col].method(value, inplace=True)', try using 'df.method({col: value}, inplace=True)' or df[col] = df[col].method(value) instead, to perform the operation inplace on the original object.\n",
      "\n",
      "\n",
      "  x_test['emp_length'].fillna(0, inplace=True)\n"
     ]
    },
    {
     "data": {
      "text/plain": "np.int64(0)"
     },
     "execution_count": 202,
     "metadata": {},
     "output_type": "execute_result"
    }
   ],
   "source": [
    "# fill missing value with 0\n",
    "x_train['emp_length'].fillna(0, inplace=True)\n",
    "x_test['emp_length'].fillna(0, inplace=True)\n",
    "x_train['emp_length'].isnull().sum()"
   ],
   "metadata": {
    "collapsed": false,
    "ExecuteTime": {
     "end_time": "2024-12-11T12:18:17.932943Z",
     "start_time": "2024-12-11T12:18:17.921411Z"
    }
   },
   "id": "771ea1b6c3e930c1"
  },
  {
   "cell_type": "code",
   "execution_count": 203,
   "outputs": [
    {
     "data": {
      "text/plain": "575893    Nov-2016\n748895    Jan-2016\n482512    May-2016\n572425    Nov-2016\n71962     May-2017\nName: issue_d, dtype: object"
     },
     "execution_count": 203,
     "metadata": {},
     "output_type": "execute_result"
    }
   ],
   "source": [
    "x_train['issue_d'].head()"
   ],
   "metadata": {
    "collapsed": false,
    "ExecuteTime": {
     "end_time": "2024-12-11T12:18:18.018376Z",
     "start_time": "2024-12-11T12:18:17.933615Z"
    }
   },
   "id": "2cf761557b05ba03"
  },
  {
   "cell_type": "code",
   "execution_count": 204,
   "outputs": [
    {
     "data": {
      "text/plain": "         issue_d earliest_cr_line last_pymnt_d last_credit_pull_d\n575893  Nov-2016         Jun-2005     Dec-2017           Dec-2017\n748895  Jan-2016         Sep-2007     Oct-2017           Dec-2017\n482512  May-2016         Sep-1992     Sep-2017           Nov-2017\n572425  Nov-2016         Sep-1975     Dec-2017           Dec-2017\n71962   May-2017         Sep-2012     Dec-2017           Dec-2017",
      "text/html": "<div>\n<style scoped>\n    .dataframe tbody tr th:only-of-type {\n        vertical-align: middle;\n    }\n\n    .dataframe tbody tr th {\n        vertical-align: top;\n    }\n\n    .dataframe thead th {\n        text-align: right;\n    }\n</style>\n<table border=\"1\" class=\"dataframe\">\n  <thead>\n    <tr style=\"text-align: right;\">\n      <th></th>\n      <th>issue_d</th>\n      <th>earliest_cr_line</th>\n      <th>last_pymnt_d</th>\n      <th>last_credit_pull_d</th>\n    </tr>\n  </thead>\n  <tbody>\n    <tr>\n      <th>575893</th>\n      <td>Nov-2016</td>\n      <td>Jun-2005</td>\n      <td>Dec-2017</td>\n      <td>Dec-2017</td>\n    </tr>\n    <tr>\n      <th>748895</th>\n      <td>Jan-2016</td>\n      <td>Sep-2007</td>\n      <td>Oct-2017</td>\n      <td>Dec-2017</td>\n    </tr>\n    <tr>\n      <th>482512</th>\n      <td>May-2016</td>\n      <td>Sep-1992</td>\n      <td>Sep-2017</td>\n      <td>Nov-2017</td>\n    </tr>\n    <tr>\n      <th>572425</th>\n      <td>Nov-2016</td>\n      <td>Sep-1975</td>\n      <td>Dec-2017</td>\n      <td>Dec-2017</td>\n    </tr>\n    <tr>\n      <th>71962</th>\n      <td>May-2017</td>\n      <td>Sep-2012</td>\n      <td>Dec-2017</td>\n      <td>Dec-2017</td>\n    </tr>\n  </tbody>\n</table>\n</div>"
     },
     "execution_count": 204,
     "metadata": {},
     "output_type": "execute_result"
    }
   ],
   "source": [
    "columns_date = ['issue_d', 'earliest_cr_line', 'last_pymnt_d', 'last_credit_pull_d']\n",
    "x_train[columns_date].head()"
   ],
   "metadata": {
    "collapsed": false,
    "ExecuteTime": {
     "end_time": "2024-12-11T12:18:18.029516Z",
     "start_time": "2024-12-11T12:18:17.938738Z"
    }
   },
   "id": "38f0f1b148b4fc60"
  },
  {
   "cell_type": "code",
   "execution_count": 205,
   "outputs": [
    {
     "name": "stderr",
     "output_type": "stream",
     "text": [
      "/var/folders/86/0ktjtbzj13b2z0b54356w3h00000gn/T/ipykernel_5928/772438817.py:3: UserWarning: Could not infer format, so each element will be parsed individually, falling back to `dateutil`. To ensure parsing is consistent and as-expected, please specify a format.\n",
      "  x_train[col] = pd.to_datetime(x_train[col])\n",
      "/var/folders/86/0ktjtbzj13b2z0b54356w3h00000gn/T/ipykernel_5928/772438817.py:4: UserWarning: Could not infer format, so each element will be parsed individually, falling back to `dateutil`. To ensure parsing is consistent and as-expected, please specify a format.\n",
      "  x_test[col] = pd.to_datetime(x_test[col])\n",
      "/var/folders/86/0ktjtbzj13b2z0b54356w3h00000gn/T/ipykernel_5928/772438817.py:3: UserWarning: Could not infer format, so each element will be parsed individually, falling back to `dateutil`. To ensure parsing is consistent and as-expected, please specify a format.\n",
      "  x_train[col] = pd.to_datetime(x_train[col])\n",
      "/var/folders/86/0ktjtbzj13b2z0b54356w3h00000gn/T/ipykernel_5928/772438817.py:4: UserWarning: Could not infer format, so each element will be parsed individually, falling back to `dateutil`. To ensure parsing is consistent and as-expected, please specify a format.\n",
      "  x_test[col] = pd.to_datetime(x_test[col])\n",
      "/var/folders/86/0ktjtbzj13b2z0b54356w3h00000gn/T/ipykernel_5928/772438817.py:3: UserWarning: Could not infer format, so each element will be parsed individually, falling back to `dateutil`. To ensure parsing is consistent and as-expected, please specify a format.\n",
      "  x_train[col] = pd.to_datetime(x_train[col])\n",
      "/var/folders/86/0ktjtbzj13b2z0b54356w3h00000gn/T/ipykernel_5928/772438817.py:4: UserWarning: Could not infer format, so each element will be parsed individually, falling back to `dateutil`. To ensure parsing is consistent and as-expected, please specify a format.\n",
      "  x_test[col] = pd.to_datetime(x_test[col])\n",
      "/var/folders/86/0ktjtbzj13b2z0b54356w3h00000gn/T/ipykernel_5928/772438817.py:3: UserWarning: Could not infer format, so each element will be parsed individually, falling back to `dateutil`. To ensure parsing is consistent and as-expected, please specify a format.\n",
      "  x_train[col] = pd.to_datetime(x_train[col])\n",
      "/var/folders/86/0ktjtbzj13b2z0b54356w3h00000gn/T/ipykernel_5928/772438817.py:4: UserWarning: Could not infer format, so each element will be parsed individually, falling back to `dateutil`. To ensure parsing is consistent and as-expected, please specify a format.\n",
      "  x_test[col] = pd.to_datetime(x_test[col])\n"
     ]
    },
    {
     "data": {
      "text/plain": "          issue_d earliest_cr_line last_pymnt_d last_credit_pull_d\n575893 2016-11-01       2005-06-01   2017-12-01         2017-12-01\n748895 2016-01-01       2007-09-01   2017-10-01         2017-12-01\n482512 2016-05-01       1992-09-01   2017-09-01         2017-11-01\n572425 2016-11-01       1975-09-01   2017-12-01         2017-12-01\n71962  2017-05-01       2012-09-01   2017-12-01         2017-12-01",
      "text/html": "<div>\n<style scoped>\n    .dataframe tbody tr th:only-of-type {\n        vertical-align: middle;\n    }\n\n    .dataframe tbody tr th {\n        vertical-align: top;\n    }\n\n    .dataframe thead th {\n        text-align: right;\n    }\n</style>\n<table border=\"1\" class=\"dataframe\">\n  <thead>\n    <tr style=\"text-align: right;\">\n      <th></th>\n      <th>issue_d</th>\n      <th>earliest_cr_line</th>\n      <th>last_pymnt_d</th>\n      <th>last_credit_pull_d</th>\n    </tr>\n  </thead>\n  <tbody>\n    <tr>\n      <th>575893</th>\n      <td>2016-11-01</td>\n      <td>2005-06-01</td>\n      <td>2017-12-01</td>\n      <td>2017-12-01</td>\n    </tr>\n    <tr>\n      <th>748895</th>\n      <td>2016-01-01</td>\n      <td>2007-09-01</td>\n      <td>2017-10-01</td>\n      <td>2017-12-01</td>\n    </tr>\n    <tr>\n      <th>482512</th>\n      <td>2016-05-01</td>\n      <td>1992-09-01</td>\n      <td>2017-09-01</td>\n      <td>2017-11-01</td>\n    </tr>\n    <tr>\n      <th>572425</th>\n      <td>2016-11-01</td>\n      <td>1975-09-01</td>\n      <td>2017-12-01</td>\n      <td>2017-12-01</td>\n    </tr>\n    <tr>\n      <th>71962</th>\n      <td>2017-05-01</td>\n      <td>2012-09-01</td>\n      <td>2017-12-01</td>\n      <td>2017-12-01</td>\n    </tr>\n  </tbody>\n</table>\n</div>"
     },
     "execution_count": 205,
     "metadata": {},
     "output_type": "execute_result"
    }
   ],
   "source": [
    "# convert to datetime\n",
    "for col in columns_date:\n",
    "    x_train[col] = pd.to_datetime(x_train[col])\n",
    "    x_test[col] = pd.to_datetime(x_test[col])\n",
    "\n",
    "x_train[columns_date].head()"
   ],
   "metadata": {
    "collapsed": false,
    "ExecuteTime": {
     "end_time": "2024-12-11T12:18:18.393363Z",
     "start_time": "2024-12-11T12:18:17.987640Z"
    }
   },
   "id": "20d4290589e7e223"
  },
  {
   "cell_type": "code",
   "execution_count": 206,
   "outputs": [
    {
     "name": "stdout",
     "output_type": "stream",
     "text": [
      "<class 'pandas.core.frame.DataFrame'>\n",
      "Index: 607470 entries, 575893 to 121958\n",
      "Data columns (total 8 columns):\n",
      " #   Column               Non-Null Count   Dtype         \n",
      "---  ------               --------------   -----         \n",
      " 0   term                 607470 non-null  int64         \n",
      " 1   emp_length           607470 non-null  float64       \n",
      " 2   issue_d              607470 non-null  datetime64[ns]\n",
      " 3   earliest_cr_line     607470 non-null  datetime64[ns]\n",
      " 4   revol_util           607060 non-null  float64       \n",
      " 5   initial_list_status  607470 non-null  object        \n",
      " 6   last_pymnt_d         606701 non-null  datetime64[ns]\n",
      " 7   last_credit_pull_d   607459 non-null  datetime64[ns]\n",
      "dtypes: datetime64[ns](4), float64(2), int64(1), object(1)\n",
      "memory usage: 41.7+ MB\n"
     ]
    }
   ],
   "source": [
    "x_train[columns_need_to_clean].info()"
   ],
   "metadata": {
    "collapsed": false,
    "ExecuteTime": {
     "end_time": "2024-12-11T12:18:18.516169Z",
     "start_time": "2024-12-11T12:18:18.391622Z"
    }
   },
   "id": "f860006e9fb8360d"
  },
  {
   "cell_type": "code",
   "execution_count": 207,
   "outputs": [
    {
     "name": "stdout",
     "output_type": "stream",
     "text": [
      "<class 'pandas.core.frame.DataFrame'>\n",
      "Index: 151868 entries, 179093 to 510769\n",
      "Data columns (total 8 columns):\n",
      " #   Column               Non-Null Count   Dtype         \n",
      "---  ------               --------------   -----         \n",
      " 0   term                 151868 non-null  int64         \n",
      " 1   emp_length           151868 non-null  float64       \n",
      " 2   issue_d              151868 non-null  datetime64[ns]\n",
      " 3   earliest_cr_line     151868 non-null  datetime64[ns]\n",
      " 4   revol_util           151761 non-null  float64       \n",
      " 5   initial_list_status  151868 non-null  object        \n",
      " 6   last_pymnt_d         151689 non-null  datetime64[ns]\n",
      " 7   last_credit_pull_d   151861 non-null  datetime64[ns]\n",
      "dtypes: datetime64[ns](4), float64(2), int64(1), object(1)\n",
      "memory usage: 10.4+ MB\n"
     ]
    }
   ],
   "source": [
    "x_test[columns_need_to_clean].info()"
   ],
   "metadata": {
    "collapsed": false,
    "ExecuteTime": {
     "end_time": "2024-12-11T12:18:18.518227Z",
     "start_time": "2024-12-11T12:18:18.476957Z"
    }
   },
   "id": "cf6437519b2bbf96"
  },
  {
   "cell_type": "code",
   "execution_count": 208,
   "outputs": [
    {
     "data": {
      "text/plain": "        term  emp_length    issue_d earliest_cr_line  revol_util  \\\n575893    60         4.0 2016-11-01       2005-06-01        20.6   \n748895    60         0.0 2016-01-01       2007-09-01        33.4   \n482512    60        10.0 2016-05-01       1992-09-01        63.4   \n572425    60        10.0 2016-11-01       1975-09-01        56.0   \n71962     36         3.0 2017-05-01       2012-09-01        31.1   \n\n       initial_list_status last_pymnt_d last_credit_pull_d  \n575893                   w   2017-12-01         2017-12-01  \n748895                   w   2017-10-01         2017-12-01  \n482512                   f   2017-09-01         2017-11-01  \n572425                   w   2017-12-01         2017-12-01  \n71962                    w   2017-12-01         2017-12-01  ",
      "text/html": "<div>\n<style scoped>\n    .dataframe tbody tr th:only-of-type {\n        vertical-align: middle;\n    }\n\n    .dataframe tbody tr th {\n        vertical-align: top;\n    }\n\n    .dataframe thead th {\n        text-align: right;\n    }\n</style>\n<table border=\"1\" class=\"dataframe\">\n  <thead>\n    <tr style=\"text-align: right;\">\n      <th></th>\n      <th>term</th>\n      <th>emp_length</th>\n      <th>issue_d</th>\n      <th>earliest_cr_line</th>\n      <th>revol_util</th>\n      <th>initial_list_status</th>\n      <th>last_pymnt_d</th>\n      <th>last_credit_pull_d</th>\n    </tr>\n  </thead>\n  <tbody>\n    <tr>\n      <th>575893</th>\n      <td>60</td>\n      <td>4.0</td>\n      <td>2016-11-01</td>\n      <td>2005-06-01</td>\n      <td>20.6</td>\n      <td>w</td>\n      <td>2017-12-01</td>\n      <td>2017-12-01</td>\n    </tr>\n    <tr>\n      <th>748895</th>\n      <td>60</td>\n      <td>0.0</td>\n      <td>2016-01-01</td>\n      <td>2007-09-01</td>\n      <td>33.4</td>\n      <td>w</td>\n      <td>2017-10-01</td>\n      <td>2017-12-01</td>\n    </tr>\n    <tr>\n      <th>482512</th>\n      <td>60</td>\n      <td>10.0</td>\n      <td>2016-05-01</td>\n      <td>1992-09-01</td>\n      <td>63.4</td>\n      <td>f</td>\n      <td>2017-09-01</td>\n      <td>2017-11-01</td>\n    </tr>\n    <tr>\n      <th>572425</th>\n      <td>60</td>\n      <td>10.0</td>\n      <td>2016-11-01</td>\n      <td>1975-09-01</td>\n      <td>56.0</td>\n      <td>w</td>\n      <td>2017-12-01</td>\n      <td>2017-12-01</td>\n    </tr>\n    <tr>\n      <th>71962</th>\n      <td>36</td>\n      <td>3.0</td>\n      <td>2017-05-01</td>\n      <td>2012-09-01</td>\n      <td>31.1</td>\n      <td>w</td>\n      <td>2017-12-01</td>\n      <td>2017-12-01</td>\n    </tr>\n  </tbody>\n</table>\n</div>"
     },
     "execution_count": 208,
     "metadata": {},
     "output_type": "execute_result"
    }
   ],
   "source": [
    "x_train = x_train[columns_need_to_clean]\n",
    "x_test = x_test[columns_need_to_clean]\n",
    "\n",
    "x_train.head()"
   ],
   "metadata": {
    "collapsed": false,
    "ExecuteTime": {
     "end_time": "2024-12-11T12:18:18.631450Z",
     "start_time": "2024-12-11T12:18:18.509679Z"
    }
   },
   "id": "3141208a456975bd"
  },
  {
   "cell_type": "code",
   "execution_count": 209,
   "outputs": [],
   "source": [
    "del x_train['initial_list_status']\n",
    "del x_test['initial_list_status']\n"
   ],
   "metadata": {
    "collapsed": false,
    "ExecuteTime": {
     "end_time": "2024-12-11T12:18:18.631728Z",
     "start_time": "2024-12-11T12:18:18.600562Z"
    }
   },
   "id": "c6aa6bcd8ac6852a"
  },
  {
   "cell_type": "code",
   "execution_count": 210,
   "outputs": [
    {
     "name": "stdout",
     "output_type": "stream",
     "text": [
      "<class 'pandas.core.frame.DataFrame'>\n",
      "Index: 607470 entries, 575893 to 121958\n",
      "Data columns (total 7 columns):\n",
      " #   Column              Non-Null Count   Dtype         \n",
      "---  ------              --------------   -----         \n",
      " 0   term                607470 non-null  float64       \n",
      " 1   emp_length          607470 non-null  float64       \n",
      " 2   issue_d             607470 non-null  datetime64[ns]\n",
      " 3   earliest_cr_line    607470 non-null  datetime64[ns]\n",
      " 4   revol_util          607060 non-null  float64       \n",
      " 5   last_pymnt_d        606701 non-null  datetime64[ns]\n",
      " 6   last_credit_pull_d  607459 non-null  datetime64[ns]\n",
      "dtypes: datetime64[ns](4), float64(3)\n",
      "memory usage: 37.1 MB\n"
     ]
    }
   ],
   "source": [
    "# convert term to float\n",
    "x_train['term'] = x_train['term'].astype(float)\n",
    "x_test['term'] = x_test['term'].astype(float)\n",
    "x_train.info()"
   ],
   "metadata": {
    "collapsed": false,
    "ExecuteTime": {
     "end_time": "2024-12-11T12:18:18.693388Z",
     "start_time": "2024-12-11T12:18:18.606762Z"
    }
   },
   "id": "4f5e5efc54aed711"
  },
  {
   "cell_type": "markdown",
   "source": [
    "### Handling Date Columns and Calculating Date Differences"
   ],
   "metadata": {
    "collapsed": false
   },
   "id": "6501180bcd905367"
  },
  {
   "cell_type": "code",
   "execution_count": 211,
   "outputs": [
    {
     "data": {
      "text/plain": "'2024-12-11'"
     },
     "execution_count": 211,
     "metadata": {},
     "output_type": "execute_result"
    }
   ],
   "source": [
    "from datetime import datetime\n",
    "today = datetime.today().strftime('%Y-%m-%d')\n",
    "today"
   ],
   "metadata": {
    "collapsed": false,
    "ExecuteTime": {
     "end_time": "2024-12-11T12:18:18.693867Z",
     "start_time": "2024-12-11T12:18:18.644173Z"
    }
   },
   "id": "88ede8c83760db4e"
  },
  {
   "cell_type": "code",
   "execution_count": 212,
   "outputs": [],
   "source": [
    "# for all date columns, calculate the difference between today and the date\n",
    "\n",
    "for col in columns_date:\n",
    "    x_train[col] = (pd.to_datetime(today) - x_train[col]).dt.days\n",
    "    x_test[col] = (pd.to_datetime(today) - x_test[col]).dt.days\n",
    "    \n"
   ],
   "metadata": {
    "collapsed": false,
    "ExecuteTime": {
     "end_time": "2024-12-11T12:18:18.847855Z",
     "start_time": "2024-12-11T12:18:18.655765Z"
    }
   },
   "id": "dfc22fc70e384657"
  },
  {
   "cell_type": "code",
   "execution_count": 213,
   "outputs": [],
   "source": [
    "# and convert date column to float type\n",
    "x_train[columns_date] = x_train[columns_date].astype(float)"
   ],
   "metadata": {
    "collapsed": false,
    "ExecuteTime": {
     "end_time": "2024-12-11T12:18:18.876198Z",
     "start_time": "2024-12-11T12:18:18.744098Z"
    }
   },
   "id": "2c45cb2fbe145020"
  },
  {
   "cell_type": "code",
   "execution_count": 214,
   "outputs": [
    {
     "data": {
      "text/plain": "        term  emp_length  issue_d  earliest_cr_line  revol_util  last_pymnt_d  \\\n575893  60.0         4.0   2962.0            7133.0        20.6        2567.0   \n748895  60.0         0.0   3267.0            6311.0        33.4        2628.0   \n482512  60.0        10.0   3146.0           11789.0        63.4        2658.0   \n572425  60.0        10.0   2962.0           17999.0        56.0        2567.0   \n71962   36.0         3.0   2781.0            4484.0        31.1        2567.0   \n\n        last_credit_pull_d  \n575893              2567.0  \n748895              2567.0  \n482512              2597.0  \n572425              2567.0  \n71962               2567.0  ",
      "text/html": "<div>\n<style scoped>\n    .dataframe tbody tr th:only-of-type {\n        vertical-align: middle;\n    }\n\n    .dataframe tbody tr th {\n        vertical-align: top;\n    }\n\n    .dataframe thead th {\n        text-align: right;\n    }\n</style>\n<table border=\"1\" class=\"dataframe\">\n  <thead>\n    <tr style=\"text-align: right;\">\n      <th></th>\n      <th>term</th>\n      <th>emp_length</th>\n      <th>issue_d</th>\n      <th>earliest_cr_line</th>\n      <th>revol_util</th>\n      <th>last_pymnt_d</th>\n      <th>last_credit_pull_d</th>\n    </tr>\n  </thead>\n  <tbody>\n    <tr>\n      <th>575893</th>\n      <td>60.0</td>\n      <td>4.0</td>\n      <td>2962.0</td>\n      <td>7133.0</td>\n      <td>20.6</td>\n      <td>2567.0</td>\n      <td>2567.0</td>\n    </tr>\n    <tr>\n      <th>748895</th>\n      <td>60.0</td>\n      <td>0.0</td>\n      <td>3267.0</td>\n      <td>6311.0</td>\n      <td>33.4</td>\n      <td>2628.0</td>\n      <td>2567.0</td>\n    </tr>\n    <tr>\n      <th>482512</th>\n      <td>60.0</td>\n      <td>10.0</td>\n      <td>3146.0</td>\n      <td>11789.0</td>\n      <td>63.4</td>\n      <td>2658.0</td>\n      <td>2597.0</td>\n    </tr>\n    <tr>\n      <th>572425</th>\n      <td>60.0</td>\n      <td>10.0</td>\n      <td>2962.0</td>\n      <td>17999.0</td>\n      <td>56.0</td>\n      <td>2567.0</td>\n      <td>2567.0</td>\n    </tr>\n    <tr>\n      <th>71962</th>\n      <td>36.0</td>\n      <td>3.0</td>\n      <td>2781.0</td>\n      <td>4484.0</td>\n      <td>31.1</td>\n      <td>2567.0</td>\n      <td>2567.0</td>\n    </tr>\n  </tbody>\n</table>\n</div>"
     },
     "execution_count": 214,
     "metadata": {},
     "output_type": "execute_result"
    }
   ],
   "source": [
    "x_test[columns_date] = x_test[columns_date].astype(float)\n",
    "x_train.head()"
   ],
   "metadata": {
    "collapsed": false,
    "ExecuteTime": {
     "end_time": "2024-12-11T12:18:18.878083Z",
     "start_time": "2024-12-11T12:18:18.785799Z"
    }
   },
   "id": "59fe185de83d7855"
  },
  {
   "cell_type": "code",
   "execution_count": 215,
   "outputs": [
    {
     "data": {
      "text/plain": "        term  emp_length  issue_d  earliest_cr_line  revol_util  last_pymnt_d  \\\n179093  36.0         3.0   2901.0           11698.0        29.3        2567.0   \n391394  36.0         9.0   2720.0            6615.0        59.8        2567.0   \n370873  36.0        10.0   2689.0            7681.0        65.3        2567.0   \n269295  36.0         1.0   3085.0           10572.0        73.1        2597.0   \n5441    36.0         9.0   2750.0           11271.0         6.7        2567.0   \n\n        last_credit_pull_d  \n179093              2567.0  \n391394              2567.0  \n370873              2567.0  \n269295              2567.0  \n5441                2567.0  ",
      "text/html": "<div>\n<style scoped>\n    .dataframe tbody tr th:only-of-type {\n        vertical-align: middle;\n    }\n\n    .dataframe tbody tr th {\n        vertical-align: top;\n    }\n\n    .dataframe thead th {\n        text-align: right;\n    }\n</style>\n<table border=\"1\" class=\"dataframe\">\n  <thead>\n    <tr style=\"text-align: right;\">\n      <th></th>\n      <th>term</th>\n      <th>emp_length</th>\n      <th>issue_d</th>\n      <th>earliest_cr_line</th>\n      <th>revol_util</th>\n      <th>last_pymnt_d</th>\n      <th>last_credit_pull_d</th>\n    </tr>\n  </thead>\n  <tbody>\n    <tr>\n      <th>179093</th>\n      <td>36.0</td>\n      <td>3.0</td>\n      <td>2901.0</td>\n      <td>11698.0</td>\n      <td>29.3</td>\n      <td>2567.0</td>\n      <td>2567.0</td>\n    </tr>\n    <tr>\n      <th>391394</th>\n      <td>36.0</td>\n      <td>9.0</td>\n      <td>2720.0</td>\n      <td>6615.0</td>\n      <td>59.8</td>\n      <td>2567.0</td>\n      <td>2567.0</td>\n    </tr>\n    <tr>\n      <th>370873</th>\n      <td>36.0</td>\n      <td>10.0</td>\n      <td>2689.0</td>\n      <td>7681.0</td>\n      <td>65.3</td>\n      <td>2567.0</td>\n      <td>2567.0</td>\n    </tr>\n    <tr>\n      <th>269295</th>\n      <td>36.0</td>\n      <td>1.0</td>\n      <td>3085.0</td>\n      <td>10572.0</td>\n      <td>73.1</td>\n      <td>2597.0</td>\n      <td>2567.0</td>\n    </tr>\n    <tr>\n      <th>5441</th>\n      <td>36.0</td>\n      <td>9.0</td>\n      <td>2750.0</td>\n      <td>11271.0</td>\n      <td>6.7</td>\n      <td>2567.0</td>\n      <td>2567.0</td>\n    </tr>\n  </tbody>\n</table>\n</div>"
     },
     "execution_count": 215,
     "metadata": {},
     "output_type": "execute_result"
    }
   ],
   "source": [
    "x_test.head()"
   ],
   "metadata": {
    "collapsed": false,
    "ExecuteTime": {
     "end_time": "2024-12-11T12:18:18.879381Z",
     "start_time": "2024-12-11T12:18:18.818446Z"
    }
   },
   "id": "93895e27c6c04381"
  },
  {
   "cell_type": "markdown",
   "source": [
    "### Handling missing values with median"
   ],
   "metadata": {
    "collapsed": false
   },
   "id": "4ac49c3a7daa3417"
  },
  {
   "cell_type": "code",
   "execution_count": 216,
   "outputs": [
    {
     "data": {
      "text/plain": "term                    0\nemp_length              0\nissue_d                 0\nearliest_cr_line        0\nrevol_util            410\nlast_pymnt_d          769\nlast_credit_pull_d     11\ndtype: int64"
     },
     "execution_count": 216,
     "metadata": {},
     "output_type": "execute_result"
    }
   ],
   "source": [
    "x_train.isnull().sum()"
   ],
   "metadata": {
    "collapsed": false,
    "ExecuteTime": {
     "end_time": "2024-12-11T12:18:18.879750Z",
     "start_time": "2024-12-11T12:18:18.824066Z"
    }
   },
   "id": "c4e6a2ac6161c208"
  },
  {
   "cell_type": "code",
   "execution_count": 217,
   "outputs": [
    {
     "data": {
      "text/plain": "term                    0\nemp_length              0\nissue_d                 0\nearliest_cr_line        0\nrevol_util            107\nlast_pymnt_d          179\nlast_credit_pull_d      7\ndtype: int64"
     },
     "execution_count": 217,
     "metadata": {},
     "output_type": "execute_result"
    }
   ],
   "source": [
    "x_test.isnull().sum()"
   ],
   "metadata": {
    "collapsed": false,
    "ExecuteTime": {
     "end_time": "2024-12-11T12:18:18.880010Z",
     "start_time": "2024-12-11T12:18:18.836359Z"
    }
   },
   "id": "34899eb49529f380"
  },
  {
   "cell_type": "code",
   "execution_count": 218,
   "outputs": [],
   "source": [
    "x_train.fillna(x_train.median(), inplace=True)\n",
    "x_test.fillna(x_test.median(), inplace=True)"
   ],
   "metadata": {
    "collapsed": false,
    "ExecuteTime": {
     "end_time": "2024-12-11T12:18:19.052630Z",
     "start_time": "2024-12-11T12:18:18.845137Z"
    }
   },
   "id": "576028a6b396bcc3"
  },
  {
   "cell_type": "code",
   "execution_count": 219,
   "outputs": [
    {
     "data": {
      "text/plain": "term                  0\nemp_length            0\nissue_d               0\nearliest_cr_line      0\nrevol_util            0\nlast_pymnt_d          0\nlast_credit_pull_d    0\ndtype: int64"
     },
     "execution_count": 219,
     "metadata": {},
     "output_type": "execute_result"
    }
   ],
   "source": [
    "x_train.isnull().sum()"
   ],
   "metadata": {
    "collapsed": false,
    "ExecuteTime": {
     "end_time": "2024-12-11T12:18:19.053466Z",
     "start_time": "2024-12-11T12:18:18.953314Z"
    }
   },
   "id": "366c83017f0da8e7"
  },
  {
   "cell_type": "code",
   "execution_count": 220,
   "outputs": [
    {
     "data": {
      "text/plain": "term                  0\nemp_length            0\nissue_d               0\nearliest_cr_line      0\nrevol_util            0\nlast_pymnt_d          0\nlast_credit_pull_d    0\ndtype: int64"
     },
     "execution_count": 220,
     "metadata": {},
     "output_type": "execute_result"
    }
   ],
   "source": [
    "x_test.isnull().sum()"
   ],
   "metadata": {
    "collapsed": false,
    "ExecuteTime": {
     "end_time": "2024-12-11T12:18:19.053793Z",
     "start_time": "2024-12-11T12:18:18.964903Z"
    }
   },
   "id": "dd2282f978d7b347"
  },
  {
   "cell_type": "markdown",
   "source": [
    "## 7. Model Building\n",
    "\n",
    "For binary classification always start from Logistic Regression."
   ],
   "metadata": {
    "collapsed": false
   },
   "id": "707cd153dcb331f8"
  },
  {
   "cell_type": "code",
   "execution_count": 221,
   "outputs": [],
   "source": [
    "from sklearn.linear_model import LogisticRegression\n"
   ],
   "metadata": {
    "collapsed": false,
    "ExecuteTime": {
     "end_time": "2024-12-11T12:18:19.053929Z",
     "start_time": "2024-12-11T12:18:18.973825Z"
    }
   },
   "id": "d0d7801eb5ab9af6"
  },
  {
   "cell_type": "code",
   "execution_count": 222,
   "outputs": [],
   "source": [
    "model = LogisticRegression()"
   ],
   "metadata": {
    "collapsed": false,
    "ExecuteTime": {
     "end_time": "2024-12-11T12:18:19.054020Z",
     "start_time": "2024-12-11T12:18:18.979503Z"
    }
   },
   "id": "e29cc88e52c72889"
  },
  {
   "cell_type": "code",
   "execution_count": 223,
   "outputs": [
    {
     "name": "stderr",
     "output_type": "stream",
     "text": [
      "/Users/jankristantowibisono/miniconda3/envs/data-science-exploration/lib/python3.11/site-packages/sklearn/linear_model/_logistic.py:465: ConvergenceWarning: lbfgs failed to converge (status=1):\n",
      "STOP: TOTAL NO. of ITERATIONS REACHED LIMIT.\n",
      "\n",
      "Increase the number of iterations (max_iter) or scale the data as shown in:\n",
      "    https://scikit-learn.org/stable/modules/preprocessing.html\n",
      "Please also refer to the documentation for alternative solver options:\n",
      "    https://scikit-learn.org/stable/modules/linear_model.html#logistic-regression\n",
      "  n_iter_i = _check_optimize_result(\n"
     ]
    }
   ],
   "source": [
    "model.fit(x_train, y_train)\n",
    "y_pred = model.predict(x_test)"
   ],
   "metadata": {
    "collapsed": false,
    "ExecuteTime": {
     "end_time": "2024-12-11T12:18:21.457476Z",
     "start_time": "2024-12-11T12:18:18.986774Z"
    }
   },
   "id": "ea120ff30c9ff4f3"
  },
  {
   "cell_type": "code",
   "execution_count": 224,
   "outputs": [],
   "source": [
    "result = pd.DataFrame({'y_pred': y_pred, 'y_test': y_test})"
   ],
   "metadata": {
    "collapsed": false,
    "ExecuteTime": {
     "end_time": "2024-12-11T12:18:21.461558Z",
     "start_time": "2024-12-11T12:18:21.455967Z"
    }
   },
   "id": "aadbabfd9a597038"
  },
  {
   "cell_type": "code",
   "execution_count": 225,
   "outputs": [
    {
     "data": {
      "text/plain": "        y_pred  y_test\n179093       0       0\n391394       0       0\n370873       0       0\n269295       0       0\n5441         0       0",
      "text/html": "<div>\n<style scoped>\n    .dataframe tbody tr th:only-of-type {\n        vertical-align: middle;\n    }\n\n    .dataframe tbody tr th {\n        vertical-align: top;\n    }\n\n    .dataframe thead th {\n        text-align: right;\n    }\n</style>\n<table border=\"1\" class=\"dataframe\">\n  <thead>\n    <tr style=\"text-align: right;\">\n      <th></th>\n      <th>y_pred</th>\n      <th>y_test</th>\n    </tr>\n  </thead>\n  <tbody>\n    <tr>\n      <th>179093</th>\n      <td>0</td>\n      <td>0</td>\n    </tr>\n    <tr>\n      <th>391394</th>\n      <td>0</td>\n      <td>0</td>\n    </tr>\n    <tr>\n      <th>370873</th>\n      <td>0</td>\n      <td>0</td>\n    </tr>\n    <tr>\n      <th>269295</th>\n      <td>0</td>\n      <td>0</td>\n    </tr>\n    <tr>\n      <th>5441</th>\n      <td>0</td>\n      <td>0</td>\n    </tr>\n  </tbody>\n</table>\n</div>"
     },
     "execution_count": 225,
     "metadata": {},
     "output_type": "execute_result"
    }
   ],
   "source": [
    "result.head()"
   ],
   "metadata": {
    "collapsed": false,
    "ExecuteTime": {
     "end_time": "2024-12-11T12:18:21.475934Z",
     "start_time": "2024-12-11T12:18:21.464016Z"
    }
   },
   "id": "15b8620dc8ece442"
  },
  {
   "cell_type": "markdown",
   "source": [
    "## 8. Model Evaluation\n",
    "The accuracy score is a metric used to evaluate the performance of classification models. It measures the proportion of correct predictions made by the model. It is calculated as:\n",
    "\n",
    "Accuracy = Number of Correct Predictions / Total Number of Predictions\n"
   ],
   "metadata": {
    "collapsed": false
   },
   "id": "e46f3c685abf1db5"
  },
  {
   "cell_type": "code",
   "execution_count": 226,
   "outputs": [],
   "source": [
    "from sklearn.metrics import accuracy_score"
   ],
   "metadata": {
    "collapsed": false,
    "ExecuteTime": {
     "end_time": "2024-12-11T12:18:21.476447Z",
     "start_time": "2024-12-11T12:18:21.469510Z"
    }
   },
   "id": "2be985aa6429b6b9"
  },
  {
   "cell_type": "code",
   "execution_count": 227,
   "outputs": [
    {
     "data": {
      "text/plain": "0.9175204783101114"
     },
     "execution_count": 227,
     "metadata": {},
     "output_type": "execute_result"
    }
   ],
   "source": [
    "accuracy_score(y_test, y_pred)"
   ],
   "metadata": {
    "collapsed": false,
    "ExecuteTime": {
     "end_time": "2024-12-11T12:18:21.550803Z",
     "start_time": "2024-12-11T12:18:21.474748Z"
    }
   },
   "id": "31b1710fbb41b322"
  },
  {
   "cell_type": "markdown",
   "source": [
    "A confusion matrix is a summary table used to assess the performance of a classification algorithm. It compares the predicted labels against the actual labels (ground truth). For binary classification (e.g., good vs. bad loans), the confusion matrix contains four values:\n",
    "\n",
    "True Positive (TP): The number of instances correctly predicted as positive (bad loans correctly classified as bad).\n",
    "True Negative (TN): The number of instances correctly predicted as negative (good loans correctly classified as good).\n",
    "False Positive (FP): The number of instances incorrectly predicted as positive (good loans incorrectly classified as bad).\n",
    "False Negative (FN): The number of instances incorrectly predicted as negative (bad loans incorrectly classified as good)."
   ],
   "metadata": {
    "collapsed": false
   },
   "id": "bb6c8f313b2cbc14"
  },
  {
   "cell_type": "code",
   "execution_count": 228,
   "outputs": [],
   "source": [
    "from sklearn.metrics import confusion_matrix\n",
    "import matplotlib_inline as plt\n",
    "import seaborn as sns"
   ],
   "metadata": {
    "collapsed": false,
    "ExecuteTime": {
     "end_time": "2024-12-11T12:18:21.551392Z",
     "start_time": "2024-12-11T12:18:21.483667Z"
    }
   },
   "id": "b328834e090bc72e"
  },
  {
   "cell_type": "code",
   "execution_count": 229,
   "outputs": [],
   "source": [
    "cm = confusion_matrix(y_test, y_pred)"
   ],
   "metadata": {
    "collapsed": false,
    "ExecuteTime": {
     "end_time": "2024-12-11T12:18:21.572288Z",
     "start_time": "2024-12-11T12:18:21.488274Z"
    }
   },
   "id": "319f787defd7acca"
  },
  {
   "cell_type": "markdown",
   "source": [],
   "metadata": {
    "collapsed": false
   },
   "id": "9adc56b984418357"
  },
  {
   "cell_type": "code",
   "execution_count": 230,
   "outputs": [
    {
     "data": {
      "text/plain": "<Axes: >"
     },
     "execution_count": 230,
     "metadata": {},
     "output_type": "execute_result"
    },
    {
     "data": {
      "text/plain": "<Figure size 640x480 with 2 Axes>",
      "image/png": "[encoded data removed]"
     },
     "metadata": {},
     "output_type": "display_data"
    }
   ],
   "source": [
    "sns.heatmap(cm, annot=True, fmt='.0f', cmap='coolwarm', xticklabels=['good', 'bad'], yticklabels=['good', 'bad'])"
   ],
   "metadata": {
    "collapsed": false,
    "ExecuteTime": {
     "end_time": "2024-12-11T12:18:21.707376Z",
     "start_time": "2024-12-11T12:18:21.527116Z"
    }
   },
   "id": "9ba065f3bb2d9e1b"
  },
  {
   "cell_type": "markdown",
   "source": [
    "Imbalanced Binary Classification"
   ],
   "metadata": {
    "collapsed": false
   },
   "id": "87509cfae656b324"
  },
  {
   "cell_type": "code",
   "execution_count": 231,
   "outputs": [
    {
     "data": {
      "text/plain": "good_bad\n0    0.925512\n1    0.074488\nName: proportion, dtype: float64"
     },
     "execution_count": 231,
     "metadata": {},
     "output_type": "execute_result"
    }
   ],
   "source": [
    "y_train.value_counts(normalize=True)"
   ],
   "metadata": {
    "collapsed": false,
    "ExecuteTime": {
     "end_time": "2024-12-11T12:18:21.707863Z",
     "start_time": "2024-12-11T12:18:21.664163Z"
    }
   },
   "id": "2ec381c540700c11"
  },
  {
   "cell_type": "markdown",
   "source": [
    "### Handling Imbalanced Data"
   ],
   "metadata": {
    "collapsed": false
   },
   "id": "60a9a9c499fcea81"
  },
  {
   "cell_type": "code",
   "execution_count": 232,
   "outputs": [
    {
     "data": {
      "text/plain": "array([[0.96743468, 0.03256532],\n       [0.95463411, 0.04536589],\n       [0.95650076, 0.04349924],\n       ...,\n       [0.83890461, 0.16109539],\n       [0.95698477, 0.04301523],\n       [0.94592211, 0.05407789]], shape=(151868, 2))"
     },
     "execution_count": 232,
     "metadata": {},
     "output_type": "execute_result"
    }
   ],
   "source": [
    "model.predict_proba(x_test)"
   ],
   "metadata": {
    "collapsed": false,
    "ExecuteTime": {
     "end_time": "2024-12-11T12:18:21.844566Z",
     "start_time": "2024-12-11T12:18:21.670580Z"
    }
   },
   "id": "5ed3f0c148e1423f"
  },
  {
   "cell_type": "markdown",
   "source": [
    "Receiver Operating Characteristic (ROC) curve for evaluating the classification performance at different threshold values"
   ],
   "metadata": {
    "collapsed": false
   },
   "id": "a2bc032b38dbd872"
  },
  {
   "cell_type": "code",
   "execution_count": 233,
   "outputs": [],
   "source": [
    "from sklearn.metrics import roc_curve\n",
    "fp, tp, thresholds = roc_curve(y_test, model.predict_proba(x_test)[:, 1])"
   ],
   "metadata": {
    "collapsed": false,
    "ExecuteTime": {
     "end_time": "2024-12-11T12:18:21.870902Z",
     "start_time": "2024-12-11T12:18:21.683219Z"
    }
   },
   "id": "4c5b78f455917f9"
  },
  {
   "cell_type": "code",
   "execution_count": 234,
   "outputs": [
    {
     "data": {
      "text/plain": "array([           inf, 9.65898386e-01, 9.50362208e-01, ...,\n       1.65088386e-04, 1.58934736e-04, 4.86786790e-05], shape=(14782,))"
     },
     "execution_count": 234,
     "metadata": {},
     "output_type": "execute_result"
    }
   ],
   "source": [
    "thresholds"
   ],
   "metadata": {
    "collapsed": false,
    "ExecuteTime": {
     "end_time": "2024-12-11T12:18:21.871355Z",
     "start_time": "2024-12-11T12:18:21.724046Z"
    }
   },
   "id": "c8af4bdb9a826be2"
  },
  {
   "cell_type": "markdown",
   "source": [
    "### Youden's J Statistic for Optimizing the Threshold\n",
    "We use Youden's J statistic to determine the optimal threshold for classification. Youden's J statistic is a measure that combines sensitivity (recall) and specificity into a single value to help optimize the classification threshold. "
   ],
   "metadata": {
    "collapsed": false
   },
   "id": "9dec6fcf01cb3cbc"
  },
  {
   "cell_type": "code",
   "execution_count": 235,
   "outputs": [],
   "source": [
    "# youden j statistic\n",
    "youden_j = tp - fp\n",
    "ix = np.argmax(youden_j)\n",
    "best_threshold = thresholds[ix]"
   ],
   "metadata": {
    "collapsed": false,
    "ExecuteTime": {
     "end_time": "2024-12-11T12:18:21.871577Z",
     "start_time": "2024-12-11T12:18:21.729541Z"
    }
   },
   "id": "a0ffdd8aff469a0e"
  },
  {
   "cell_type": "code",
   "execution_count": 236,
   "outputs": [
    {
     "data": {
      "text/plain": "np.float64(0.06829410163156237)"
     },
     "execution_count": 236,
     "metadata": {},
     "output_type": "execute_result"
    }
   ],
   "source": [
    "best_threshold"
   ],
   "metadata": {
    "collapsed": false,
    "ExecuteTime": {
     "end_time": "2024-12-11T12:18:21.872147Z",
     "start_time": "2024-12-11T12:18:21.735205Z"
    }
   },
   "id": "431ad9fbc3f358bb"
  },
  {
   "cell_type": "markdown",
   "source": [
    "Youden's J statistic is particularly useful for imbalanced datasets because it optimizes the balance between false positives and false negatives, making it a great choice for choosing a threshold in classification problems. By maximizing Youden's J, we aim to achieve the highest possible combined accuracy of detecting both positive and negative cases without bias toward the majority class."
   ],
   "metadata": {
    "collapsed": false
   },
   "id": "cd95a6961582be68"
  },
  {
   "cell_type": "code",
   "execution_count": 237,
   "outputs": [],
   "source": [
    "y_pred = np.where(model.predict_proba(x_test)[:, 1] > best_threshold, 1, 0)"
   ],
   "metadata": {
    "collapsed": false,
    "ExecuteTime": {
     "end_time": "2024-12-11T12:18:21.872359Z",
     "start_time": "2024-12-11T12:18:21.742765Z"
    }
   },
   "id": "d358bee212ccc30"
  },
  {
   "cell_type": "code",
   "execution_count": 238,
   "outputs": [
    {
     "data": {
      "text/plain": "array([0, 0, 0, ..., 1, 0, 0], shape=(151868,))"
     },
     "execution_count": 238,
     "metadata": {},
     "output_type": "execute_result"
    }
   ],
   "source": [
    "y_pred"
   ],
   "metadata": {
    "collapsed": false,
    "ExecuteTime": {
     "end_time": "2024-12-11T12:18:21.872883Z",
     "start_time": "2024-12-11T12:18:21.752320Z"
    }
   },
   "id": "97db22a4d74ca176"
  },
  {
   "cell_type": "code",
   "execution_count": 239,
   "outputs": [
    {
     "data": {
      "text/plain": "<Axes: >"
     },
     "execution_count": 239,
     "metadata": {},
     "output_type": "execute_result"
    },
    {
     "data": {
      "text/plain": "<Figure size 640x480 with 2 Axes>",
      "image/png": "[encoded data removed]"
     },
     "metadata": {},
     "output_type": "display_data"
    }
   ],
   "source": [
    "cm = confusion_matrix(y_test, y_pred)\n",
    "sns.heatmap(cm, annot=True, fmt='.0f', cmap='coolwarm', xticklabels=['good', 'bad'], yticklabels=['good', 'bad'])\n"
   ],
   "metadata": {
    "collapsed": false,
    "ExecuteTime": {
     "end_time": "2024-12-11T12:18:22.020557Z",
     "start_time": "2024-12-11T12:18:21.758451Z"
    }
   },
   "id": "aad21a8af6ddb0c5"
  },
  {
   "cell_type": "code",
   "execution_count": 240,
   "outputs": [
    {
     "data": {
      "text/plain": "array([[ 1.29465028e-02, -6.23845297e-03,  3.92279420e-04,\n        -5.41245952e-05,  5.84099773e-03,  8.46958751e-03,\n        -1.02282766e-02]])"
     },
     "execution_count": 240,
     "metadata": {},
     "output_type": "execute_result"
    }
   ],
   "source": [
    "model.coef_"
   ],
   "metadata": {
    "collapsed": false,
    "ExecuteTime": {
     "end_time": "2024-12-11T12:18:22.021272Z",
     "start_time": "2024-12-11T12:18:21.914119Z"
    }
   },
   "id": "25936c1fe8a2dc62"
  },
  {
   "cell_type": "markdown",
   "source": [
    "### Interpreting the Coefficients:\n",
    "- Positive coefficients suggest that as the feature value increases, the likelihood of the predicted class (e.g., bad loan) increases.\n",
    "- Negative coefficients suggest that as the feature value increases, the likelihood of the predicted class (e.g., bad loan) decreases.\n",
    "- Magnitude: The larger the magnitude of a coefficient (positive or negative), the more impact that feature has on the prediction.\n",
    "\n",
    "- This is helpful in understanding which features are driving the model’s predictions and can guide further feature engineering or interpretation of model behavior."
   ],
   "metadata": {
    "collapsed": false
   },
   "id": "c8583b001f314df7"
  },
  {
   "cell_type": "code",
   "execution_count": 241,
   "outputs": [
    {
     "data": {
      "text/plain": "              feature      coef\n0                term  0.012947\n1          emp_length -0.006238\n2             issue_d  0.000392\n3    earliest_cr_line -0.000054\n4          revol_util  0.005841\n5        last_pymnt_d  0.008470\n6  last_credit_pull_d -0.010228",
      "text/html": "<div>\n<style scoped>\n    .dataframe tbody tr th:only-of-type {\n        vertical-align: middle;\n    }\n\n    .dataframe tbody tr th {\n        vertical-align: top;\n    }\n\n    .dataframe thead th {\n        text-align: right;\n    }\n</style>\n<table border=\"1\" class=\"dataframe\">\n  <thead>\n    <tr style=\"text-align: right;\">\n      <th></th>\n      <th>feature</th>\n      <th>coef</th>\n    </tr>\n  </thead>\n  <tbody>\n    <tr>\n      <th>0</th>\n      <td>term</td>\n      <td>0.012947</td>\n    </tr>\n    <tr>\n      <th>1</th>\n      <td>emp_length</td>\n      <td>-0.006238</td>\n    </tr>\n    <tr>\n      <th>2</th>\n      <td>issue_d</td>\n      <td>0.000392</td>\n    </tr>\n    <tr>\n      <th>3</th>\n      <td>earliest_cr_line</td>\n      <td>-0.000054</td>\n    </tr>\n    <tr>\n      <th>4</th>\n      <td>revol_util</td>\n      <td>0.005841</td>\n    </tr>\n    <tr>\n      <th>5</th>\n      <td>last_pymnt_d</td>\n      <td>0.008470</td>\n    </tr>\n    <tr>\n      <th>6</th>\n      <td>last_credit_pull_d</td>\n      <td>-0.010228</td>\n    </tr>\n  </tbody>\n</table>\n</div>"
     },
     "execution_count": 241,
     "metadata": {},
     "output_type": "execute_result"
    }
   ],
   "source": [
    "df_coef = pd.DataFrame({'feature': x_train.columns, 'coef': model.coef_[0]})\n",
    "df_coef"
   ],
   "metadata": {
    "collapsed": false,
    "ExecuteTime": {
     "end_time": "2024-12-11T12:18:22.021717Z",
     "start_time": "2024-12-11T12:18:21.923089Z"
    }
   },
   "id": "d74d97c2e9c81a64"
  },
  {
   "cell_type": "markdown",
   "source": [
    "### Understanding the Coefficients:\n",
    "#### term (Coefficient = 0.012947):\n",
    "\n",
    "A positive coefficient means that as the loan term (the length of the loan) increases, the likelihood of the loan being classified as a bad loan increases, though the effect is small since the coefficient is relatively small.\n",
    "#### emp_length (Coefficient = -0.006238):\n",
    "\n",
    "A negative coefficient indicates that as the borrower's employment length increases, the likelihood of the loan being classified as bad decreases. Longer employment might suggest more financial stability, which lowers the risk of default.\n",
    "#### issue_d (Coefficient = 0.000392):\n",
    "\n",
    "The coefficient is positive, meaning that as the issue date of the loan increases (i.e., as time goes on), the likelihood of the loan being classified as bad increases slightly. This effect could be related to external factors affecting newer loans or a temporal trend in loan defaults.\n",
    "#### earliest_cr_line (Coefficient = -0.000054):\n",
    "\n",
    "A negative coefficient suggests that as the borrower's earliest credit line date (i.e., how long they've had credit) gets later, the likelihood of the loan being classified as bad decreases. This could mean that borrowers with a longer history of credit might be less likely to default.\n",
    "#### revol_util (Coefficient = 0.005841):\n",
    "\n",
    "The positive coefficient indicates that as the borrower's revolving credit utilization rate increases (i.e., how much of their available credit they are using), the likelihood of the loan being classified as bad increases. High credit utilization is often associated with higher credit risk, which makes this feature quite intuitive.\n",
    "#### last_pymnt_d (Coefficient = 0.008470):\n",
    "\n",
    "A positive coefficient suggests that the more recent the last payment date, the higher the likelihood of the loan being classified as bad. This might suggest that more recent payments could be indicative of late or insufficient payments.\n",
    "#### last_credit_pull_d (Coefficient = -0.010228):\n",
    "\n",
    "A negative coefficient indicates that as the time since the last credit pull (a check on the borrower's credit history) increases, the likelihood of the loan being classified as bad decreases. This could suggest that a recent credit pull might be linked to financial distress or other negative factors.\n",
    "\n",
    "### Interpretation of the Results:\n",
    "Positive coefficients (like term, issue_d, revol_util, and last_pymnt_d) suggest that an increase in these features makes the loan more likely to be classified as a bad loan (1). For example, higher credit utilization (revol_util) and more recent loan issue dates (issue_d) correlate with a higher risk of default.\n",
    "\n",
    "Negative coefficients (like emp_length, earliest_cr_line, and last_credit_pull_d) suggest that an increase in these features makes the loan more likely to be classified as a good loan (0). For example, longer employment history (emp_length) and a more distant earliest credit line date (earliest_cr_line) reduce the likelihood of a bad loan."
   ],
   "metadata": {
    "collapsed": false
   },
   "id": "270dcbab54ad0617"
  },
  {
   "cell_type": "code",
   "execution_count": 241,
   "outputs": [],
   "source": [],
   "metadata": {
    "collapsed": false,
    "ExecuteTime": {
     "end_time": "2024-12-11T12:18:22.021882Z",
     "start_time": "2024-12-11T12:18:21.927929Z"
    }
   },
   "id": "fcaf698a41fa5289"
  }
 ],
 "metadata": {
  "kernelspec": {
   "display_name": "Python 3",
   "language": "python",
   "name": "python3"
  },
  "language_info": {
   "codemirror_mode": {
    "name": "ipython",
    "version": 2
   },
   "file_extension": ".py",
   "mimetype": "text/x-python",
   "name": "python",
   "nbconvert_exporter": "python",
   "pygments_lexer": "ipython2",
   "version": "2.7.6"
  }
 },
 "nbformat": 4,
 "nbformat_minor": 5
}
